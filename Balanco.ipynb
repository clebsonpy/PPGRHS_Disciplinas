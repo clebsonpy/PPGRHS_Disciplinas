{
 "cells": [
  {
   "cell_type": "markdown",
   "metadata": {},
   "source": [
    "# Programa de Pós-graduação em Recursos Hídricos e Sanemento - PPGRHS\n",
    "## Hidrologia\n",
    "## Balanço Hídrico\n",
    "### Clebson Farias"
   ]
  },
  {
   "cell_type": "code",
   "execution_count": 3,
   "metadata": {},
   "outputs": [
    {
     "data": {
      "text/plain": [
       "39"
      ]
     },
     "execution_count": 3,
     "metadata": {},
     "output_type": "execute_result"
    }
   ],
   "source": [
    "time = [\"01/08/13 10:00 PM\", \"01/08/13 11:00 PM\", \"01/09/13 12:00 AM\", \n",
    "        \"01/09/13 01:00 AM\", \"01/09/13 02:00 AM\", \"01/09/13 03:00 AM\", \n",
    "        \"01/09/13 04:00 AM\", \"01/09/13 05:00 AM\", \"01/09/13 06:00 AM\",\n",
    "        \"01/09/13 07:00 AM\", \"01/09/13 08:00 AM\", \"01/09/13 09:00 AM\",\n",
    "        \"01/09/13 10:00 AM\", \"01/09/13 11:00 AM\", \"01/09/13 12:00 PM\",\n",
    "        \"01/09/13 01:00 PM\", \"01/09/13 02:00 PM\", \"01/09/13 03:00 PM\",\n",
    "        \"01/09/13 04:00 PM\", \"01/09/13 05:00 PM\", \"01/09/13 06:00 PM\",\n",
    "        \"01/09/13 07:00 PM\", \"01/09/13 08:00 PM\", \"01/09/13 09:00 PM\", \n",
    "        \"01/09/13 10:00 PM\", \"01/09/13 11:00 PM\", \"01/10/13 12:00 AM\", \n",
    "        \"01/10/13 01:00 AM\", \"01/10/13 02:00 AM\", \"01/10/13 03:00 AM\",\n",
    "        \"01/10/13 04:00 AM\", \"01/10/13 05:00 AM\", \"01/10/13 06:00 AM\",\n",
    "        \"01/10/13 07:00 AM\", \"01/10/13 08:00 AM\", \"01/10/13 09:00 AM\",\n",
    "        \"01/10/13 10:00 AM\", \"01/10/13 11:00 AM\", \"01/10/13 12:00 PM\"]\n",
    "len(time)"
   ]
  },
  {
   "cell_type": "code",
   "execution_count": 4,
   "metadata": {},
   "outputs": [
    {
     "data": {
      "text/plain": [
       "39"
      ]
     },
     "execution_count": 4,
     "metadata": {},
     "output_type": "execute_result"
    }
   ],
   "source": [
    "precipitacao = [0.3, 0.0, 1.8, 7.9, 8.1, 7.1, 5.6, 2.8, 1.8, 4.1, 2.5, 0.8, 0.8, 0.3, 0.5, 0.3, 0.0,\n",
    "                0.0, 0.0, 0.0, 0.0, 0.0, 0.0, 0.0, 0.0, 0.0, 0.0, 0.0, 0.0, 0.0, 0.0, 0.0, 0.0, 0.0,\n",
    "                0.0, 0.0, 0.0, 0.0, 0.0]\n",
    "len(precipitacao)"
   ]
  },
  {
   "cell_type": "code",
   "execution_count": 5,
   "metadata": {},
   "outputs": [
    {
     "data": {
      "text/plain": [
       "39"
      ]
     },
     "execution_count": 5,
     "metadata": {},
     "output_type": "execute_result"
    }
   ],
   "source": [
    "vazao = [0.048, 0.095, 0.109, 0.616, 0.700, 12.292, 10.528, 8.960, 5.880, 5.068, \n",
    "         4.396, 5.572, 3.808, 2.940, 2.772, 2.128, 1.456, 1.260, 1.008, 0.868, 0.756, \n",
    "         0.644, 0.560, 0.504, 0.448, 0.392, 0.336, 0.336, 0.308, 0.269, 0.241, 0.216,\n",
    "         0.193, 0.174, 0.160, 0.148, 0.129, 0.129, 0.115]\n",
    "len(vazao)"
   ]
  },
  {
   "cell_type": "code",
   "execution_count": 6,
   "metadata": {},
   "outputs": [
    {
     "data": {
      "text/plain": [
       "{'time': ['01/08/13 10:00 PM',\n",
       "  '01/08/13 11:00 PM',\n",
       "  '01/09/13 12:00 AM',\n",
       "  '01/09/13 01:00 AM',\n",
       "  '01/09/13 02:00 AM',\n",
       "  '01/09/13 03:00 AM',\n",
       "  '01/09/13 04:00 AM',\n",
       "  '01/09/13 05:00 AM',\n",
       "  '01/09/13 06:00 AM',\n",
       "  '01/09/13 07:00 AM',\n",
       "  '01/09/13 08:00 AM',\n",
       "  '01/09/13 09:00 AM',\n",
       "  '01/09/13 10:00 AM',\n",
       "  '01/09/13 11:00 AM',\n",
       "  '01/09/13 12:00 PM',\n",
       "  '01/09/13 01:00 PM',\n",
       "  '01/09/13 02:00 PM',\n",
       "  '01/09/13 03:00 PM',\n",
       "  '01/09/13 04:00 PM',\n",
       "  '01/09/13 05:00 PM',\n",
       "  '01/09/13 06:00 PM',\n",
       "  '01/09/13 07:00 PM',\n",
       "  '01/09/13 08:00 PM',\n",
       "  '01/09/13 09:00 PM',\n",
       "  '01/09/13 10:00 PM',\n",
       "  '01/09/13 11:00 PM',\n",
       "  '01/10/13 12:00 AM',\n",
       "  '01/10/13 01:00 AM',\n",
       "  '01/10/13 02:00 AM',\n",
       "  '01/10/13 03:00 AM',\n",
       "  '01/10/13 04:00 AM',\n",
       "  '01/10/13 05:00 AM',\n",
       "  '01/10/13 06:00 AM',\n",
       "  '01/10/13 07:00 AM',\n",
       "  '01/10/13 08:00 AM',\n",
       "  '01/10/13 09:00 AM',\n",
       "  '01/10/13 10:00 AM',\n",
       "  '01/10/13 11:00 AM',\n",
       "  '01/10/13 12:00 PM'],\n",
       " 'precipitacao': [0.3,\n",
       "  0.0,\n",
       "  1.8,\n",
       "  7.9,\n",
       "  8.1,\n",
       "  7.1,\n",
       "  5.6,\n",
       "  2.8,\n",
       "  1.8,\n",
       "  4.1,\n",
       "  2.5,\n",
       "  0.8,\n",
       "  0.8,\n",
       "  0.3,\n",
       "  0.5,\n",
       "  0.3,\n",
       "  0.0,\n",
       "  0.0,\n",
       "  0.0,\n",
       "  0.0,\n",
       "  0.0,\n",
       "  0.0,\n",
       "  0.0,\n",
       "  0.0,\n",
       "  0.0,\n",
       "  0.0,\n",
       "  0.0,\n",
       "  0.0,\n",
       "  0.0,\n",
       "  0.0,\n",
       "  0.0,\n",
       "  0.0,\n",
       "  0.0,\n",
       "  0.0,\n",
       "  0.0,\n",
       "  0.0,\n",
       "  0.0,\n",
       "  0.0,\n",
       "  0.0],\n",
       " 'vazao': [0.048,\n",
       "  0.095,\n",
       "  0.109,\n",
       "  0.616,\n",
       "  0.7,\n",
       "  12.292,\n",
       "  10.528,\n",
       "  8.96,\n",
       "  5.88,\n",
       "  5.068,\n",
       "  4.396,\n",
       "  5.572,\n",
       "  3.808,\n",
       "  2.94,\n",
       "  2.772,\n",
       "  2.128,\n",
       "  1.456,\n",
       "  1.26,\n",
       "  1.008,\n",
       "  0.868,\n",
       "  0.756,\n",
       "  0.644,\n",
       "  0.56,\n",
       "  0.504,\n",
       "  0.448,\n",
       "  0.392,\n",
       "  0.336,\n",
       "  0.336,\n",
       "  0.308,\n",
       "  0.269,\n",
       "  0.241,\n",
       "  0.216,\n",
       "  0.193,\n",
       "  0.174,\n",
       "  0.16,\n",
       "  0.148,\n",
       "  0.129,\n",
       "  0.129,\n",
       "  0.115]}"
      ]
     },
     "execution_count": 6,
     "metadata": {},
     "output_type": "execute_result"
    }
   ],
   "source": [
    "dados = {\"time\": time, \"precipitacao\": precipitacao, \"vazao\": vazao}\n",
    "dados"
   ]
  },
  {
   "cell_type": "code",
   "execution_count": 7,
   "metadata": {},
   "outputs": [
    {
     "ename": "ModuleNotFoundError",
     "evalue": "No module named 'pandas'",
     "output_type": "error",
     "traceback": [
      "\u001b[0;31m---------------------------------------------------------------------------\u001b[0m",
      "\u001b[0;31mModuleNotFoundError\u001b[0m                       Traceback (most recent call last)",
      "\u001b[0;32m<ipython-input-7-7dd3504c366f>\u001b[0m in \u001b[0;36m<module>\u001b[0;34m\u001b[0m\n\u001b[0;32m----> 1\u001b[0;31m \u001b[0;32mimport\u001b[0m \u001b[0mpandas\u001b[0m \u001b[0;32mas\u001b[0m \u001b[0mpd\u001b[0m\u001b[0;34m\u001b[0m\u001b[0;34m\u001b[0m\u001b[0m\n\u001b[0m",
      "\u001b[0;31mModuleNotFoundError\u001b[0m: No module named 'pandas'"
     ]
    }
   ],
   "source": [
    "import pandas as pd"
   ]
  },
  {
   "cell_type": "code",
   "execution_count": null,
   "metadata": {},
   "outputs": [],
   "source": []
  }
 ],
 "metadata": {
  "kernelspec": {
   "display_name": "Python 3",
   "language": "python",
   "name": "python3"
  },
  "language_info": {
   "codemirror_mode": {
    "name": "ipython",
    "version": 3
   },
   "file_extension": ".py",
   "mimetype": "text/x-python",
   "name": "python",
   "nbconvert_exporter": "python",
   "pygments_lexer": "ipython3",
   "version": "3.6.7"
  }
 },
 "nbformat": 4,
 "nbformat_minor": 2
}
