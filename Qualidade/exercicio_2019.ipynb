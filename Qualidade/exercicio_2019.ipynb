{
 "cells": [
  {
   "cell_type": "markdown",
   "metadata": {},
   "source": [
    "## Universidade Federal de Alagoas\n",
    "### Centro de Tecnologia\n",
    "### Programa de Pós-Graduação em Recursos Hídricos e Saneamento\n",
    "#### Disciplina: Qualidade da Água e do Ar"
   ]
  },
  {
   "cell_type": "markdown",
   "metadata": {},
   "source": [
    "***"
   ]
  },
  {
   "cell_type": "markdown",
   "metadata": {},
   "source": [
    "\n",
    "**Q1:** Para caracterizar uma água, são utilizados diversos parâmetros, os quais\n",
    "representam suas características físicas, químicas e biológicas. Esses parâmetros\n",
    "caracterizam impurezas quando alcançam valores superiores àqueles\n",
    "estabelecidos para determinado uso. Sobre os indicadores de qualidade de água,\n",
    "é correto afirmar:\n",
    "\n",
    "- a) O parâmetro cor indica a presença de matéria em suspensão na água.\n",
    "- b) A alcalinidade é indicativo da presença de ferro e manganês.\n",
    "- ***c) A presença de nitrogênio amoniacal representa que a água pode ter recebido lançamento de esgoto doméstico.***\n",
    "- d) A DBO é amplamente utilizada como um indicador de material não-biodegradável na água.\n",
    "- e) Valores de DQO muito superiores aos valores da DBO representam lançamentos de origem predominantemente domésticos.\n",
    "\n",
    "****"
   ]
  },
  {
   "cell_type": "markdown",
   "metadata": {},
   "source": [
    "**Q2:** Qual a diferença entre cor real e cor verdadeira e qual a sua relação com a turbidez? Qual a importância desses parâmetros nos estudos de controle da poluição das águas superficiais naturais (rios, lagos, etc)?\n",
    "\n",
    "***A cor real é determinada em amostras com tubidez e cor verdadeira é determinada em amostras sem tubidez. A cor real está mais relacionada com a tubidez, uma vez que para determinar não precisa passar pelo processo de filtração, mas a relação da cor com a tubidez está agrupados em 3 categorias, solúvel, coloidal e precipitado. Dependendo da finalidade, esses parâmetros são de importância natural e fundamental, pois não apresenta risco direto à saúde, e são muito importante para abastecimento, pois é um parâmetros estético da água.***\n",
    "\n",
    "****"
   ]
  },
  {
   "cell_type": "markdown",
   "metadata": {},
   "source": [
    "**Q3:** Qual a importância da fração de sólidos sedimentáveis no controle da poluição das águas superficiais naturais por efluentes industriais?\n",
    "\n",
    "***É muito importante por se tratar de um parâmetro da legislação, Podem reter bactérias e resíduos orgânicos no fundo dos rios, altos teores de sais e podem conter sulfato e cloreto associados a tendência de corrosão. Além de poder conter impurezas (substancias vegetais, bactérias e vírus).*** \n",
    "\n",
    "****"
   ]
  },
  {
   "cell_type": "markdown",
   "metadata": {},
   "source": [
    "**Q4:** Qual a diferença entre dureza temporária e dureza permanente e qual a sua relação com a alcalinidade?\n",
    "\n",
    "***A principal diferença é que a dureza temporária pode ser eliminada de por meio de fervura, apresenta carbonatos e bicarbonatos. A dureza permanente não é eliminada pela fervura e apresenta cloretos, nitratos e sulfatos. A alcalinidade é responsável pela precipitação dos carbonatos, causando incrustações.***\n",
    "\n",
    "****"
   ]
  },
  {
   "cell_type": "markdown",
   "metadata": {},
   "source": [
    "**Q5:** Como a presença de metais pesados pode influenciar a utilização de uma água superficial natural para fins de abastecimento humano?\n",
    "\n",
    "***Os metais pesados trazem efeitos adversos à saúde, podem inviabilizar os sistemas públicos de água, uma vez que as estações de tratamento convencionais não os removem eficientemente e os tratamentos especiais necessários são muito caros.***\n",
    "\n",
    "****"
   ]
  },
  {
   "cell_type": "markdown",
   "metadata": {},
   "source": [
    "**Q6:** Defina o que é: Demanda de cloro; cloro residual; cloro residual livre; cloro residual combinado.\n",
    "\n",
    "- ***Demanda de Cloro: é quantidade de cloro que pode ser adicionado, de modo que após um tempo o cloro residual seja igual ao mínimo exigido pela norma.***\n",
    "- ***Cloro residual: Quantidade de cloro presente na água;***\n",
    "- ***Cloro residual livre: Quantidade de cloro presente na água na forma de cido hipocloroso (HOCl) ou do íon hipoclorito (OCl-);***\n",
    "- ***Cloro residual combinado: Quantidade de cloro presente na água na forma de formas de mono, di e tricloraminas.***\n",
    "\n",
    "****"
   ]
  },
  {
   "cell_type": "markdown",
   "metadata": {},
   "source": [
    "**Q7:** Quais as formas que se pode encontrar o nitrogênio nas águas superficiais naturais e como se pode associar a distância de uma fonte poluidora com a relação entre as concentrações das diversas formas de nitrogênio presentes nesta águas?\n",
    "\n",
    "- ***Nitrogênio Orgânico: Presente em maior concentração próximo à fonte poluidora;***\n",
    "- ***Nitrogênio Amoniacal: Presente em maior concentração próximo à fonte poluidora;***\n",
    "- ***Nitrito: Presente em maior concentração na distância intermediaria do processo de autodepuração;***\n",
    "- ***Nitrato: Presente em maior concentração no final do processo de autodepuração;***\n",
    "\n",
    "****"
   ]
  },
  {
   "cell_type": "markdown",
   "metadata": {},
   "source": [
    "**Q8:** A descarga de efluentes ricos em amônia (esgoto sanitário, efluente industrial, excrementos de animais, fertilizantes) na água e posterior nitrificação irá consumir o OD presente no meio. Determine qual o consumo de oxigênio para cada mg de N-amoniacal removido pelo processo de nitrificação.\n",
    "\n",
    "![](q08.png)\n",
    "\n",
    "\n",
    "$NH_{4}^{+} + 2O_{2} -----> NO_{3}^{-} + 2H^{+} + H_{2}O$\n",
    "\n",
    "1 g mol N consome 2 g mol $O_{2}$"
   ]
  },
  {
   "cell_type": "code",
   "execution_count": 1,
   "metadata": {},
   "outputs": [
    {
     "name": "stdout",
     "output_type": "stream",
     "text": [
      "Para o processo de nitrificação são preciso:  4.571 mg O2\n"
     ]
    }
   ],
   "source": [
    "N = 14\n",
    "O = 16\n",
    "\n",
    "Nm = N*1\n",
    "Om = O*2*2\n",
    "\n",
    "print('Para o processo de nitrificação são preciso: ', round(Om/Nm,3), 'mg O2')"
   ]
  },
  {
   "cell_type": "markdown",
   "metadata": {},
   "source": [
    "***"
   ]
  },
  {
   "cell_type": "markdown",
   "metadata": {},
   "source": [
    "**Q9:** Discuta o significado das análises de nitrogênio no controle de águas poluídas. Quais as formas de nitrogênio que normalmente ocorrem em águas naturais?\n",
    "\n",
    "***O nitrogênio é essencial para o crescimento de algas, por isso, em certas condições, pode ocorrer o processo de eutrofização de lagos e represas. O nitrogênio está presente em forma amônia, é transformado em nitrito e depois em nitrato pelo processo de nitrificação (consumo de OD). Amônia livre é tóxico para os peixes.***\n",
    "\n",
    "****"
   ]
  },
  {
   "cell_type": "markdown",
   "metadata": {},
   "source": [
    "**Q10:** Após análise realizada em laboratório das amostras de água coletada em um determinado rio, obtiveram-se os seguintes resultados:\n",
    "\n",
    "- Coliformes: CF. = 2400/100mL;\n",
    "- $pH$ = 8,6;\n",
    "- $DBO$ = 4,6 mg/L;\n",
    "- Nitogênio Tot. = 2 mg/L\n",
    "- Fósforo Tot. = 0,343 mg/L;\n",
    "- $\\Delta T$ = 1°C;\n",
    "- Turbidez = 10 UFT;\n",
    "- Resíduo Tot. = 1800mg/L\n",
    "- $OD$ = 17 % sat.\n",
    "- Clorofila-a = 343 μg/L\n",
    "\n",
    "Pede-se:"
   ]
  },
  {
   "cell_type": "markdown",
   "metadata": {},
   "source": [
    "a) Sua classificação segundo a CETESB (IQA).\n",
    "\n",
    "\\begin{equation}\n",
    "    IQA = \\prod_{i=1}^{n} q_{i}^{w_{i}}\n",
    "\\end{equation}\n",
    "\n",
    "![](iqt.png)"
   ]
  },
  {
   "cell_type": "code",
   "execution_count": 2,
   "metadata": {},
   "outputs": [
    {
     "name": "stdout",
     "output_type": "stream",
     "text": [
      "IQA:  37.867  -  Ruim\n"
     ]
    }
   ],
   "source": [
    "q = [13, 68, 70, 80, 70, 85, 72, 32, 10] \n",
    "w = [0.15, 0.12, 0.10, 0.10, 0.10, 0.10, 0.08, 0.08, 0.17]\n",
    "\n",
    "def iqa(q, w):\n",
    "    iqa = 1\n",
    "    for i in range(len(q)):\n",
    "        iqa *= (q[i] ** w[i])\n",
    "    if 0 < iqa <= 25:\n",
    "        return round(iqa, 3), 'Péssima'\n",
    "    elif 25 < iqa <= 50:\n",
    "        return round(iqa, 3), 'Ruim'\n",
    "    elif 50 < iqa <= 70:\n",
    "        return round(iqa, 3), 'Razoável'\n",
    "    elif 70 < iqa <= 90:\n",
    "        return round(iqa, 3), 'Boa'\n",
    "    elif 90 < iqa:\n",
    "        return round(iqa, 3), 'Ótima'\n",
    "\n",
    "iqa_n, iqa = iqa(q, w)\n",
    "print('IQA: ', iqa_n, ' - ', iqa)"
   ]
  },
  {
   "cell_type": "markdown",
   "metadata": {},
   "source": [
    "b) Sua classificação através do Índice de Estado Trófico\n",
    "\n",
    "\\begin{equation}\n",
    "    IET(Cla) = 10 · (6 - \\frac{0,92 - 0,36 ·ln(Cla)}{ln(2)})\n",
    "\\end{equation}\n",
    "\n",
    "\\begin{equation}\n",
    "    IET(PT) = 10 · (6 - \\frac{1,77 - 0,42 ·ln(PT)}{ln(2)})\n",
    "\\end{equation}\n",
    "\n",
    "\\begin{equation}\n",
    "    IET = \\frac{IET(PT) + IET(Cla)}{2}\n",
    "\\end{equation}"
   ]
  },
  {
   "cell_type": "code",
   "execution_count": 3,
   "metadata": {},
   "outputs": [
    {
     "name": "stdout",
     "output_type": "stream",
     "text": [
      "IET:  55.503  -  Mesotrófico\n"
     ]
    }
   ],
   "source": [
    "import math\n",
    "P = 343\n",
    "Cla = 0.343\n",
    "\n",
    "def iet(P, Cla):\n",
    "    ietp = 10 * (6 - ((1.77 - 0.42 * math.log(P))/math.log(2)))\n",
    "    ietc = 10 * (6 - ((0.92 - 0.36 * math.log(Cla))/math.log(2)))\n",
    "    iet = round((ietp + ietc)/2, 3)\n",
    "    if iet <= 47:\n",
    "        return iet, 'Ultraoligotrófico'\n",
    "    elif 47 < iet <= 52:\n",
    "        return iet, 'Oligotrófico'\n",
    "    elif 52 < iet <= 59:\n",
    "        return iet, 'Mesotrófico'\n",
    "    elif 59 < iet <= 63:\n",
    "        return iet, 'Eutrófico'\n",
    "    elif 63 < iet <= 67:\n",
    "        return iet, 'Supereutrófico'\n",
    "    elif iet > 67:\n",
    "        return iet, 'Hipereutrófico'\n",
    "\n",
    "iet_n, iet = iet(P, Cla) \n",
    "print('IET: ', iet_n, ' - ', iet )"
   ]
  },
  {
   "cell_type": "markdown",
   "metadata": {},
   "source": [
    "****"
   ]
  },
  {
   "cell_type": "markdown",
   "metadata": {},
   "source": [
    "**Q11:** Faça uma pesquisa sobre os principais metais pesados que possam contaminar as águas naturais, destacando:\n",
    "\n",
    "- Fontes;\n",
    "- Os efeitos sobre a saúde humana e o ambiente,\n",
    "- Valor máximo permitido em água de abastecimento,\n",
    "- Padrões de lançamento de efluentes.\n",
    "\n",
    "- ***Chumbo:***\n",
    "    - Fontes: ***Processos industriais, emissão de fundições e fábricas de baterias***\n",
    "    - Os efeitos sobre a saúde humana e o ambiente: ***Perturbação da biossíntese da hemoglobina e anemia; aumento da pressão sanguínea; danos aos rins; abortos; alterações no sistema nervoso; danos ao cérebro; diminuição da fertilidade do homem através de danos ao esperma; diminuição da aprendizagem em crianças; modificações no comportamento das crianças. Um dos principais contaminantes dos mananciais.***\n",
    "    - Valor máximo permitido em água de abastecimento:***Concentrações máximas de 0,03 mg/L para águas classificadas doce e de 0,01 mg/L para salina e salobra.***\n",
    "    - Padrões de lançamento de efluentes: ***0,5 mg/L***\n",
    "- ***Bário:***\n",
    "    - Fontes:******\n",
    "    - Os efeitos sobre a saúde humana e o ambiente:******\n",
    "    - Valor máximo permitido em água de abastecimento:******\n",
    "    - Padrões de lançamento de efluentes: 5,0 mg/L******\n",
    "- ***Cobre:***\n",
    "    - Fontes:******\n",
    "    - Os efeitos sobre a saúde humana e o ambiente:******\n",
    "    - Valor máximo permitido em água de abastecimento:******\n",
    "    - Padrões de lançamento de efluentes: ***1,0 mg/L***\n",
    "- ***Cromo:***\n",
    "    - Fontes:******\n",
    "    - Os efeitos sobre a saúde humana e o ambiente:******\n",
    "    - Valor máximo permitido em água de abastecimento:******\n",
    "    - Padrões de lançamento de efluentes: ***0,1 mg/L Cr+6 e 1,0 mg/L Cr+3***\n",
    "- ***Zinco:***\n",
    "    - Fontes:******\n",
    "    - Os efeitos sobre a saúde humana e o ambiente:******\n",
    "    - Valor máximo permitido em água de abastecimento:******\n",
    "    - Padrões de lançamento de efluentes: ***5,0 mg/L***\n",
    "\n",
    "****"
   ]
  },
  {
   "cell_type": "markdown",
   "metadata": {},
   "source": [
    "**Q12:** O que poluição e contaminação?\n",
    "\n",
    "***Poluição é o lançamento de qualquer subistância química, física e biológica no corpo dágua, assim alterando o seu meio. Contaminação é a adição de sustância química e biológica. Toda contaminação é uma poluição, mas nem toda poluição é uma contaminação.***\n",
    "\n",
    "****"
   ]
  },
  {
   "cell_type": "markdown",
   "metadata": {},
   "source": [
    "**Q13:** Quais são as causas da poluição e da contaminação em um rio?\n",
    "\n",
    "***Lixos, esgotos, dejetos químicos industriais, mineração derramamento de petróleo.***"
   ]
  },
  {
   "cell_type": "markdown",
   "metadata": {},
   "source": [
    "**Q14:** A $DBO_{5}$ a $20^{o}C$ de um despejo é igual a 210 mg/L de $O_{2}$.\n",
    "\n",
    "Dado: $K_{1} = 0,23 d^{-1}$ (base e).\n"
   ]
  },
  {
   "cell_type": "markdown",
   "metadata": {},
   "source": [
    "DBO Execida\n",
    "\\begin{equation}\n",
    "    t = - \\frac{ln(- \\frac{Y-L_{0}}{L_{0}})}{k_{1}}\n",
    "\\end{equation}\n",
    "\n",
    "\\begin{equation}\n",
    "    Y_{5} = L_{0}·(1 – e^{-k_{1}·5})\n",
    "\\end{equation}\n",
    "\n",
    "\\begin{equation}\n",
    "    Y_{f} = L_{0}·(1 – e^{-k_{1}·t})\n",
    "\\end{equation}\n",
    "\n",
    "Qual será a $DBO_{final}$?"
   ]
  },
  {
   "cell_type": "code",
   "execution_count": 2,
   "metadata": {},
   "outputs": [
    {
     "name": "stdout",
     "output_type": "stream",
     "text": [
      "DBO final:  307.304 mg/L\n"
     ]
    }
   ],
   "source": [
    "import math\n",
    "DBO5 = 210\n",
    "k1 = 0.23\n",
    "#DBO final o t = 20 dias\n",
    "t = 20\n",
    "\n",
    "def lo(dbo, k1):\n",
    "    return round(dbo/(1-(math.exp(-k1*5))), 3)\n",
    "\n",
    "def dbo(lo, k1, t):\n",
    "    return round(lo * (1 - math.exp(-k1*t)), 3)\n",
    "\n",
    "lo1 = lo(DBO5, k1)\n",
    "dbof = dbo(lo1, k1, t)\n",
    "print('DBO final: ', lo1, 'mg/L')"
   ]
  },
  {
   "cell_type": "markdown",
   "metadata": {},
   "source": [
    "Qual será a $DBO_{10}$?"
   ]
  },
  {
   "cell_type": "code",
   "execution_count": 3,
   "metadata": {},
   "outputs": [
    {
     "name": "stdout",
     "output_type": "stream",
     "text": [
      "DBO10:  276.494 mg/L\n"
     ]
    }
   ],
   "source": [
    "t = 10\n",
    "dbof = dbo(lo1, k1, t)\n",
    "print('DBO10: ', dbof, 'mg/L')"
   ]
  },
  {
   "cell_type": "markdown",
   "metadata": {},
   "source": [
    "***"
   ]
  },
  {
   "cell_type": "markdown",
   "metadata": {},
   "source": [
    "**Q15:** A $DBO_{5,20}$ é igual a 220 mg/L para 3 despejos diferentes, mas os valores de $k_{1}$ a 20°C são iguais a $0,12 d^{-1}$, $0,16 d^{-1}$ e $0,20 d^{-1}$ (base e). Determinar a DBO última de cada amostra. Esboçar a curva de DBO exercida dos três despejos até 10 dias de degradação."
   ]
  },
  {
   "cell_type": "code",
   "execution_count": 4,
   "metadata": {},
   "outputs": [
    {
     "data": {
      "text/plain": [
       "[487.601, 399.513, 348.035]"
      ]
     },
     "execution_count": 4,
     "metadata": {},
     "output_type": "execute_result"
    }
   ],
   "source": [
    "DBO = 220\n",
    "k1 = [0.12, 0.16, 0.2]\n",
    "t = 20\n",
    "dbof = []\n",
    "for i in k1:\n",
    "    lo1 = lo(DBO, i)\n",
    "    dbof.append(lo1)\n",
    "dbof"
   ]
  },
  {
   "cell_type": "code",
   "execution_count": 5,
   "metadata": {},
   "outputs": [],
   "source": [
    "lista = ['A', 'B', 'C']\n",
    "dic = {}\n",
    "for i in range(3):\n",
    "    dbot = []\n",
    "    lo2 = lo(DBO, k1[i])\n",
    "    for t in range(1, 11):\n",
    "        dbot.append(dbo(lo2, k1[i], t))\n",
    "    dic[lista[i]] = dbot"
   ]
  },
  {
   "cell_type": "code",
   "execution_count": 7,
   "metadata": {},
   "outputs": [
    {
     "name": "stdout",
     "output_type": "stream",
     "text": [
      "         A        B        C\n",
      "0   55.138   59.070   63.088\n",
      "1  104.040  109.407  114.740\n",
      "2  147.413  152.301  157.029\n",
      "3  185.882  188.853  191.653\n",
      "4  220.000  220.000  220.000\n",
      "5  250.260  246.542  243.209\n",
      "6  277.099  269.160  262.211\n",
      "7  300.902  288.433  277.768\n",
      "8  322.014  304.857  290.505\n",
      "9  340.738  318.853  300.934\n"
     ]
    },
    {
     "data": {
      "image/png": "[encoded data removed]",
      "text/plain": [
       "<Figure size 432x288 with 1 Axes>"
      ]
     },
     "metadata": {
      "needs_background": "light"
     },
     "output_type": "display_data"
    }
   ],
   "source": [
    "import pandas as pd\n",
    "import matplotlib.pyplot as plt\n",
    "\n",
    "df = pd.DataFrame(dic)\n",
    "print(df)\n",
    "df.plot()\n",
    "plt.show()"
   ]
  },
  {
   "cell_type": "markdown",
   "metadata": {},
   "source": [
    "***"
   ]
  },
  {
   "cell_type": "markdown",
   "metadata": {},
   "source": [
    "**Q16:** Um despejo orgânico dissolvido na água apresenta DBO igual a $290 mg O_{2}/L$. Esse material se decompõe com um $K_{1} = 0,22 d^{-1}$ (base e)."
   ]
  },
  {
   "cell_type": "markdown",
   "metadata": {},
   "source": [
    "- a) Em quanto tempo 75% do material terá sido degradado?"
   ]
  },
  {
   "cell_type": "markdown",
   "metadata": {},
   "source": [
    "DBO Remanescente\n",
    "\\begin{equation}\n",
    "    t = - \\frac{ln(\\frac{L_{t}}{L_{0}})}{k_{1}}\n",
    "\\end{equation}\n",
    "\n",
    "\\begin{equation}\n",
    "    Y_{f} = L_{0}·e^{-k_{1}·t}\n",
    "\\end{equation}"
   ]
  },
  {
   "cell_type": "code",
   "execution_count": 10,
   "metadata": {},
   "outputs": [
    {
     "data": {
      "text/plain": [
       "8.141"
      ]
     },
     "execution_count": 10,
     "metadata": {},
     "output_type": "execute_result"
    }
   ],
   "source": [
    "import math\n",
    "dbo5 = 290\n",
    "k1 = 0.22\n",
    "dbof = 290*0.25\n",
    "def t_dbo(lo, lt, k1):\n",
    "    return round(-(math.log(lt/lo))/k1, 3)\n",
    "\n",
    "l = lo(dbo5, k1)\n",
    "t = t_dbo(l, dbof, k1)\n",
    "t"
   ]
  },
  {
   "cell_type": "markdown",
   "metadata": {},
   "source": [
    "- b) Após 7 dias de degradação, qual o valor da DBO remanescente no sistema?"
   ]
  },
  {
   "cell_type": "code",
   "execution_count": 11,
   "metadata": {},
   "outputs": [
    {
     "data": {
      "text/plain": [
       "93.191"
      ]
     },
     "execution_count": 11,
     "metadata": {},
     "output_type": "execute_result"
    }
   ],
   "source": [
    "import math\n",
    "t = 7\n",
    "def dbo_r(lo, k1, t):\n",
    "    return round(lo * math.exp(-k1 * t), 3)\n",
    "\n",
    "dbo_r7 = dbo_r(l, k1, t)\n",
    "dbo_r7"
   ]
  },
  {
   "cell_type": "markdown",
   "metadata": {},
   "source": [
    "***"
   ]
  },
  {
   "cell_type": "markdown",
   "metadata": {},
   "source": [
    "**Q17:** Uma indústria situada a 500 m do nível do mar lança seus efluentes, sem tratamento prévio, com vazão de $0,65 m^{3}/s$ em um rio (classe 2) cuja vazão mínima é de $8,0 m^{3}/s$. A velocidade do curso de água é de 2,8 Km/h, e sua profundidade média é igual a 1,0 m. A temperatura do efluente é de $25^{o}C$, a\n",
    "mesma do rio. A carga orgânica do efluente, representada pela $DBO_{5}$ é de 700 mg/L e a do rio é de 1,0 mg/L (rio bastante limpo). O efluente não contém oxigênio dissolvido, enquanto que o rio apresenta concentração de OD igual a 90% da concentração de saturação. Faça o estudo de autodepuração do curso de água indicando:\n",
    "\n",
    "- a) O perfil de oxigênio dissolvido desde o ponto de lançamento até o ponto em que o curso de água recupera as condições iniciais;\n",
    "- b) As diversas zonas de autodepuração, indicando seus limites;\n",
    "- c) A menor concentração de OD (concentração crítica), o tempo e a distância do ponto de lançamento em que é verificada;\n",
    "- d) Qual a quantidade de matéria orgânica que deve ser removida do esgoto antes do lançamento, de forma que o rio não atinja a concentração mínima de 5,0 mg/L de OD, exigida para rios de classe 2, segundo a resolução CONAMA 357/2005. Apresentar o novo perfil de OD para esta alternativa."
   ]
  },
  {
   "cell_type": "markdown",
   "metadata": {},
   "source": [
    "- Equação de Streeter e Phelps:\n",
    "\n",
    "\\begin{equation}\n",
    "    D = \\frac{k_{1} · L_{o}}{k_{2} - k_{1}} · (e^{-k_{1}·t} - e^{-k_{2}·t}) + (C_{s} - C_{o}) e^{-k_{2}·t}\n",
    "\\end{equation}\n",
    "\n",
    "- Concentração de oxigênio no rio:\n",
    "\n",
    "\\begin{equation}\n",
    "    OD = C_{s} - D\n",
    "\\end{equation}\n",
    "\n",
    "\\begin{equation}\n",
    "    OD = C_{s} - (\\frac{k_{1} · L_{o}}{k_{2} - k_{1}} · (e^{-k_{1}·t} - e^{-k_{2}·t}) + (C_{s} - C_{o}) e^{-k_{2}·t})\n",
    "\\end{equation}\n",
    "\n",
    "- Calculo da concentração de saturação de oxigênio no rio de água doce, a 500 m do nível do mar e temperatura de $25^{o}C$: $C_{s} = 8 mg/L$\n",
    "\n",
    "- Taxa\n",
    "\n",
    "\\begin{equation}\n",
    "    k_{x,T} = k_{x,20} · \\theta^{T-20}\n",
    "\\end{equation}\n",
    "$\\theta = 1,024$\n",
    "- Cálculo da DBO da última mistura (L0): EFEITO DILUIÇÂO\n",
    "\n",
    "\\begin{equation}\n",
    "    L_{0} = \\frac{Q_{r} · DBO_{r} + Q_{e} · DBO_{e}}{Q_{r} + Q_{e}} \n",
    "\\end{equation}\n",
    "\n",
    "- Para o rio com velocidade do curso d”água = 2,8 km/h (V=0,78 m/s), profundidade 1,0 (H=1m) pode-se utilizar a equação de O’Connor e Dobbins (1958):\n",
    "\n",
    "\\begin{equation}\n",
    "    K_{2} = 3,73 · V^{0,5} · H^{-1,5}\n",
    "\\end{equation}\n",
    "\n",
    "\\begin{equation}\n",
    "    k_{x,T} = k_{x,20} · \\theta^{T-20}\n",
    "\\end{equation}\n",
    "$\\theta = 1,024$\n",
    "\n",
    "- Cálculo da Concentração de oxigênio após a mistura (C0): EFEITO DILUIÇÂO\n",
    "\n",
    "\\begin{equation}\n",
    "    C_{0} = \\frac{Q_{r} · OD_{r} + Q_{e} · OD_{e}}{Q_{r} + Q_{e}} \n",
    "\\end{equation}"
   ]
  },
  {
   "cell_type": "code",
   "execution_count": 8,
   "metadata": {},
   "outputs": [],
   "source": [
    "import math\n",
    "\n",
    "def autodepuracao(k1, k2, lo, cs, co, t):\n",
    "    d = (((k1 * lo)/(k2 - k1)) * (math.exp(-k1 * t) - math.exp(-k2 * t))) + (cs - co) * math.exp(-k2 * t)\n",
    "    od = cs - d\n",
    "    return od\n",
    "\n",
    "def kx(k20, T, theta):\n",
    "    return k20 * theta ** (T - 20)\n",
    "\n",
    "def diluicao(Q1, C1, Q2, C2):\n",
    "    return ((Q1 * C1) + (Q2 * C2))/(Q1 + Q2)\n",
    "\n",
    "def k_2(V, H):\n",
    "    return 3.73 * (V ** 0.5) * (H ** -1.5)"
   ]
  },
  {
   "cell_type": "code",
   "execution_count": 33,
   "metadata": {},
   "outputs": [],
   "source": [
    "cs = 8          #Concentração de saturação\n",
    "Qe = 0.65       # Vazão efluente\n",
    "Qr = 8          #Vazão Rio\n",
    "Vr = 0.78        #Velocidade rio m/s\n",
    "H = 1           #Profundidade rio m\n",
    "Te = 25         #Temperatura efluente\n",
    "dbo5e = 700     #DBO5 efluente\n",
    "dbo5r = 1       #DBO5 rio\n",
    "ODe = 0         #OD Efluente\n",
    "ODr = cs * 0.9  #OD rio\n",
    "k1 = 0.4\n",
    "\n",
    "lo = diluicao(Qe, dbo5e, Qr, dbo5r)    #Concentracação de DBO5\n",
    "k2 = k_2(Vr, H)                        \n",
    "k2_25 = kx(k2, Te, 1.024)\n",
    "k1_25 = kx(k1, Te, 1.024)\n",
    "co = diluicao(Qr, ODr, Qe, ODe)       #Concentracao  de OD\n",
    "\n",
    "od = []\n",
    "t = []\n",
    "for i in range(0, 24):\n",
    "    t.append(i/2)\n",
    "    od.append(autodepuracao(k1=k1_25, k2=k2_25, lo=lo, cs=cs, co=co, t=i/2))\n"
   ]
  },
  {
   "cell_type": "code",
   "execution_count": 34,
   "metadata": {},
   "outputs": [
    {
     "data": {
      "text/plain": [
       "0.0     6.658960\n",
       "0.5     3.042020\n",
       "1.0     3.433195\n",
       "1.5     4.258740\n",
       "2.0     4.998171\n",
       "2.5     5.601089\n",
       "3.0     6.084410\n",
       "3.5     6.470588\n",
       "4.0     6.778951\n",
       "4.5     7.025147\n",
       "5.0     7.221704\n",
       "5.5     7.378629\n",
       "6.0     7.503915\n",
       "6.5     7.603939\n",
       "7.0     7.683796\n",
       "7.5     7.747551\n",
       "8.0     7.798452\n",
       "8.5     7.839090\n",
       "9.0     7.871534\n",
       "9.5     7.897436\n",
       "10.0    7.918116\n",
       "10.5    7.934626\n",
       "11.0    7.947807\n",
       "11.5    7.958331\n",
       "Name: OD, dtype: float64"
      ]
     },
     "execution_count": 34,
     "metadata": {},
     "output_type": "execute_result"
    }
   ],
   "source": [
    "import pandas as pd\n",
    "\n",
    "df = pd.Series(od, index=t, name='OD')\n",
    "df"
   ]
  },
  {
   "cell_type": "code",
   "execution_count": 35,
   "metadata": {},
   "outputs": [
    {
     "data": {
      "image/png": "[encoded data removed]",
      "text/plain": [
       "<Figure size 432x288 with 1 Axes>"
      ]
     },
     "metadata": {
      "needs_background": "light"
     },
     "output_type": "display_data"
    }
   ],
   "source": [
    "import matplotlib.pyplot as plt\n",
    "df.plot()\n",
    "plt.show()"
   ]
  },
  {
   "cell_type": "markdown",
   "metadata": {},
   "source": [
    "***"
   ]
  },
  {
   "cell_type": "markdown",
   "metadata": {},
   "source": [
    "**Q18:** Os odores característicos do esgoto são causados pelos gases formados no processo de decomposição. Assim, o odor de mofo, típico do esgoto fresco, é razoavelmente suportável, e o odor de ovo podre, insuportável, é típico do esgoto velho ou séptico, em virtude da presença de que gás?\n",
    "\n",
    "***Enxofre***\n",
    "\n",
    "****"
   ]
  },
  {
   "cell_type": "markdown",
   "metadata": {},
   "source": [
    "**Q19:** Quais são os níveis de tratamento de efluentes? Exemplifique.\n",
    "\n",
    "- ***Préliminar: São removidos os sólidos grosseiros, flutuantes e material sedimentar, alguns equimapentos são, grades, peneiras e caixa de areia.***\n",
    "- ***Primário: São removidos sólidos inorgânica e matéria orgânica suspensa, decantador primário/simples, reatores aneoróbios baixa eficiência, flotação***\n",
    "- ***Secundário: São removidos os sólidos inorgânicos e matéria orgânica dissolvida e em suspensão, lodos ativados, lagoas de estabilização, reatores anaeróbios de alta eficiência, lagoas aeradas;***\n",
    "- ***Terciário: Esse nível de tratamento é para obter um efluente de alta qualidade, ou a remoção de outras substâncias contidas nas águas residuárias, adsorção de carvão ativado, filtro de areia, oxidação química, remoção de organismos patogênicos.***\n",
    "\n",
    "****"
   ]
  },
  {
   "cell_type": "markdown",
   "metadata": {},
   "source": [
    "**Q20:** Quais principais instrumentos normativos que se relacionam com a qualidade da água?\n",
    "- ***PORTARIA No 2.914, DE 12 DE DEZEMBRO DE 2011, Dispõe sobre os procedimentos de controle e de vigilância da qualidade da água para consumo humano e seu padrão de potabilidade;***\n",
    "- ***RESOLUÇÃO CONAMA No. 357, DE 17 DE MARÇO DE 2005 - Dispõe sobre a classificação dos corpos de água e diretrizes ambientais para o seu enquadramento, bem comoestabelece as condições e padrões de lançamento de efluentes, e dá outras providências;***\n",
    "- ***RESOLUÇÃO CONAMA N°.396/2008 - Dispõe sobre a classificação e diretrizes ambientais para o enquadramento das águas subterrâneas e dá outras providências;***\n",
    "- ***RESOLUÇÃO CONAMA N°.430/2008 - Dispõe sobre as condições e padrões de lançamento de efluentes, complementa e altera a Resolução no 357, de 17 de março de 2005, do Conselho Nacional do Meio Ambiente-CONAMA;***\n",
    "- ***NBR-12216, Classificação das águas.***\n",
    "\n",
    "****"
   ]
  },
  {
   "cell_type": "markdown",
   "metadata": {},
   "source": [
    "**Q21:** As legislações em controle da qualidade da água para uso no Brasil, têm-se mostrado mais restritivas ao longo dos anos? Comente.\n",
    "\n",
    "***Sim, ao longo dos anos as legislações vem sendo mais restritas, pois com a descorbertas de novas substâncias são adicionados novos parâmetros.***\n",
    "\n",
    "****"
   ]
  },
  {
   "cell_type": "markdown",
   "metadata": {},
   "source": [
    "**Q22:** Um corpo de água é enquadrado em classes, mediante os seus usos. Diante desta afirmativa, escolha a alternativa relacionada a esta classificação:\n",
    "\n",
    "- ***a) Consiste de um instrumento da Política Nacional de Recursos Hídricos – PNRH –, que tem por objetivo, entre outras coisas, compatibilizar os usos preponderantes da água com a qualidade desta água.***\n",
    "- b) Consiste de um instrumento da Política Nacional de Recursos Hídricos – PNRH –, que tem por objetivo, entre outras coisas, determinar quais usos da água serão permitidos e outorgados para cobrança.\n",
    "- c) Consiste de um ato administrativo do Conselho Nacional de Recursos Hídricos – CNRH –, que tem por objetivo, entre outras coisas, determinar quais os usos da água serão cobrados e qual será o valor.\n",
    "- d) Consiste de um instrumento do Conselho Nacional de Recursos Hídricos – CNRH –, que tem por objetivo, entre outras coisas, determinar quais os usos da água serão cobrados e qual será o valor.\n",
    "- e) Consiste de um ato administrativo da Política Nacional de Recursos Hídricos – PNRH –, que tem por objetivo, entre outras coisas, determinar quais os usos da água que serão cobrados e qual será o valor.\n",
    "\n",
    "****"
   ]
  },
  {
   "cell_type": "markdown",
   "metadata": {},
   "source": [
    "**Q23:** A Resolução no 357 do CONAMA, de 2005, estabelece:\n",
    "\n",
    "- a) Os padrões de potabilidade para as águas de abastecimento público.\n",
    "- b) Os índices de qualidade de água para consumo humano.\n",
    "- c) O licenciamento ambiental de indústrias.\n",
    "- ***d) O enquadramento dos corpos d’água.***\n",
    "- e) A metodologia de análises microbiológicas d’água.\n",
    "\n",
    "****"
   ]
  },
  {
   "cell_type": "markdown",
   "metadata": {},
   "source": [
    "**Q24:** Faça uma pesquisa sobre a classificação dos tipos de reuso de água e sua respectiva qualidade físico-química e microbiológica.\n",
    "\n",
    "****"
   ]
  },
  {
   "cell_type": "markdown",
   "metadata": {},
   "source": [
    "**Q25:** Considere as seguintes situações que envolvem o reúso da água.\n",
    "\n",
    "![](q25.png)\n",
    "\n",
    "A classificação dos tipos de água de reúso das Situações I, II e III são,\n",
    "respectivamente:\n",
    "\n",
    "- a) reúso potável direto, reúso potável indireto, reciclagem.\n",
    "- ***b) reciclagem, reúso direto, reúso indireto.***\n",
    "- c) reúso não potável para fins industriais, reúso indireto, reúso direto.\n",
    "- d) reúso indireto, reciclagem, descarga de aquíferos.\n",
    "- e) reúso de água residuária, reciclagem, reúso direto."
   ]
  },
  {
   "cell_type": "code",
   "execution_count": null,
   "metadata": {},
   "outputs": [],
   "source": []
  }
 ],
 "metadata": {
  "kernelspec": {
   "display_name": "Python 3",
   "language": "python",
   "name": "python3"
  },
  "language_info": {
   "codemirror_mode": {
    "name": "ipython",
    "version": 3
   },
   "file_extension": ".py",
   "mimetype": "text/x-python",
   "name": "python",
   "nbconvert_exporter": "python",
   "pygments_lexer": "ipython3",
   "version": "3.6.7"
  }
 },
 "nbformat": 4,
 "nbformat_minor": 2
}
