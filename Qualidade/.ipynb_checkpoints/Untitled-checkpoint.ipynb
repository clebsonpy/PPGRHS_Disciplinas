{
 "cells": [
  {
   "cell_type": "markdown",
   "metadata": {},
   "source": [
    "## Universidade Federal de Alagoas\n",
    "### Centro de Tecnologia\n",
    "### Programa de Pós-Graduação em Recursos Hídricos e Saneamento\n",
    "#### Disciplina: Qualidade da Água e do Ar"
   ]
  },
  {
   "cell_type": "markdown",
   "metadata": {},
   "source": [
    "**Q1:** Para caracterizar uma água, são utilizados diversos parâmetros, os quais\n",
    "representam suas características físicas, químicas e biológicas. Esses parâmetros\n",
    "caracterizam impurezas quando alcançam valores superiores àqueles\n",
    "estabelecidos para determinado uso. Sobre os indicadores de qualidade de água,\n",
    "é correto afirmar:\n",
    "\n",
    "- a) O parâmetro cor indica a presença de matéria em suspensão na água.\n",
    "- b) A alcalinidade é indicativo da presença de ferro e manganês.\n",
    "- ***c) A presença de nitrogênio amoniacal representa que a água pode ter recebido lançamento de esgoto doméstico.***\n",
    "- d) A DBO é amplamente utilizada como um indicador de material não-biodegradável na água.\n",
    "- e) Valores de DQO muito superiores aos valores da DBO representam lançamentos de origem predominantemente domésticos.\n",
    "\n"
   ]
  },
  {
   "cell_type": "markdown",
   "metadata": {},
   "source": [
    "**Q2:** Qual a diferença entre cor real e cor verdadeira e qual a sua relação com a turbidez? Qual a importância desses parâmetros nos estudos de controle da poluição das águas superficiais naturais (rios, lagos, etc)?\n"
   ]
  },
  {
   "cell_type": "code",
   "execution_count": null,
   "metadata": {},
   "outputs": [],
   "source": []
  }
 ],
 "metadata": {
  "kernelspec": {
   "display_name": "Python 3",
   "language": "python",
   "name": "python3"
  },
  "language_info": {
   "codemirror_mode": {
    "name": "ipython",
    "version": 3
   },
   "file_extension": ".py",
   "mimetype": "text/x-python",
   "name": "python",
   "nbconvert_exporter": "python",
   "pygments_lexer": "ipython3",
   "version": "3.6.7"
  }
 },
 "nbformat": 4,
 "nbformat_minor": 2
}
