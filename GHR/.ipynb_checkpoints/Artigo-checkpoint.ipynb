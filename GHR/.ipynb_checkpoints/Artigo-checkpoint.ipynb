{
 "cells": [
  {
   "cell_type": "markdown",
   "metadata": {},
   "source": [
    "# Cobrança pelo usa da água"
   ]
  },
  {
   "cell_type": "markdown",
   "metadata": {},
   "source": [
    "## Introdução"
   ]
  },
  {
   "cell_type": "markdown",
   "metadata": {},
   "source": [
    "## Metodologia"
   ]
  },
  {
   "cell_type": "markdown",
   "metadata": {},
   "source": [
    "- Equações para cobrança:\n",
    "\n",
    "$V_{t} = (V_{cap} + V_{cons}) * K_{gest}$\n",
    "\n",
    "$V_{cap} = Q_{cap} * PPU * K_{cap}$ \n",
    "\n",
    "$V_{cons} = Q_{cons} * PPU_{cons} * K_{cons}$\n",
    "\n",
    "$K_{cap} = K_{clas} * K_{t} * K_{tipo} * K_{dens} * K_{vul}$\n",
    "\n",
    "onde, \n",
    "- $K_{t}$ e $K_{clas}$: Referência São Francisco;\n",
    "- $K_{dens}$: Num raio de x km, definir o número de poços;\n",
    "- $K_{tipo}$: Aquífero livre ou confinado;\n",
    "- $K_{r_inf}$: Colocar faixas (incluir profundidade e rebaixamento);\n",
    "- $K_{vul}$: Vulnerabilidade, tendência estimular captação em região de alta vulnerabilidade (em relação ao uso do solo);"
   ]
  },
  {
   "cell_type": "markdown",
   "metadata": {},
   "source": [
    "### Coeficiente de Classe"
   ]
  },
  {
   "cell_type": "markdown",
   "metadata": {},
   "source": [
    "## Resultados"
   ]
  },
  {
   "cell_type": "markdown",
   "metadata": {},
   "source": [
    "## Discusão"
   ]
  },
  {
   "cell_type": "markdown",
   "metadata": {},
   "source": [
    "## Conclusão"
   ]
  },
  {
   "cell_type": "code",
   "execution_count": null,
   "metadata": {},
   "outputs": [],
   "source": []
  }
 ],
 "metadata": {
  "kernelspec": {
   "display_name": "Python 3",
   "language": "python",
   "name": "python3"
  },
  "language_info": {
   "codemirror_mode": {
    "name": "ipython",
    "version": 3
   },
   "file_extension": ".py",
   "mimetype": "text/x-python",
   "name": "python",
   "nbconvert_exporter": "python",
   "pygments_lexer": "ipython3",
   "version": "3.6.9"
  }
 },
 "nbformat": 4,
 "nbformat_minor": 4
}
