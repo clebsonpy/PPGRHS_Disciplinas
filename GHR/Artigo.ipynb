{
 "cells": [
  {
   "cell_type": "markdown",
   "metadata": {},
   "source": [
    "# Cobrança pelo usa da água"
   ]
  },
  {
   "cell_type": "markdown",
   "metadata": {},
   "source": [
    "## Introdução"
   ]
  },
  {
   "cell_type": "markdown",
   "metadata": {},
   "source": [
    "## Metodologia"
   ]
  },
  {
   "cell_type": "markdown",
   "metadata": {},
   "source": [
    "- Equações para cobrança:\n",
    "\n",
    "> $V_{t} = (V_{cap} + V_{cons}) * K_{gest}$\n",
    "\n",
    "> $V_{cap} = Q_{cap} * PPU * K_{cap}$\n",
    "\n",
    "> $V_{cons} = Q_{cons} * PPU_{cons} * K_{cons}$\n",
    "\n",
    "> $K_{cap} = K_{clas} * K_{t} * K_{tipo} * K_{dens} * K_{vul}$\n",
    "\n",
    "> onde, \n",
    "> - $K_{t}$ e $K_{clas}$: Referência São Francisco;\n",
    "> - $K_{dens}$: Num raio de x km, definir o número de poços;\n",
    "> - $K_{tipo}$: Aquífero livre ou confinado;\n",
    "> - $K_{r_inf}$: Colocar faixas (incluir profundidade e rebaixamento);\n",
    "> - $K_{vul}$: Vulnerabilidade, tendência estimular captação em região de alta vulnerabilidade (em relação ao uso do solo);"
   ]
  },
  {
   "cell_type": "markdown",
   "metadata": {},
   "source": [
    "### Preços Públicos Unitários (PPU) "
   ]
  },
  {
   "cell_type": "markdown",
   "metadata": {},
   "source": [
    "Neste trabalho, adotamos os valores de acordo com a [cartilha](https://issuu.com/cbhsaofrancisco/docs/cartilha_cbhsf_-_cobran_a_recursos_h_dridos_v2019) publicada pela CBHSF, os PPUs práticados na Bacia Hidrográfica do Rio São Francisco para captção e consumo, são respectivamente 0.012 e 0.024. Esses valores estão sendo praticado desde o ano de 2019, o ajuste foi concebido por meio da [deliberação CBHSF nº 94/2017](http://arquivos.ana.gov.br/institucional/sag/CobrancaUso/Legislacao/Deliberacao_CBHSF_nr_94_17.pdf)."
   ]
  },
  {
   "cell_type": "markdown",
   "metadata": {},
   "source": [
    "### Coeficiente de classe e de boas práticas"
   ]
  },
  {
   "cell_type": "markdown",
   "metadata": {},
   "source": [
    "Os valores considerados para o coeficientes de classe e de boas práticas, tem como refêrencia os valores já praticados pelo CBHSF, [Deliberação 94/2017](http://arquivos.ana.gov.br/institucional/sag/CobrancaUso/Legislacao/Deliberacao_CBHSF_nr_94_17.pdf). \n",
    "\n",
    "- $K_{clas}$: Coeficiente que considera a qualidade da água, com base na classe de enquadramento dos corpos hídricos.\n",
    "\n",
    "| Classe   | Valor |\n",
    "|----------|-------|\n",
    "| Especial | 1,1   |\n",
    "| 1        | 1,05  |\n",
    "| 2        | 1     |\n",
    "| 3        | 0,9   |\n",
    "| 4        | 0,8   |\n",
    "  \n",
    "- $K_{t}$: Considera as boas práticas de uso e conservação, os valores são variáveis quanto à tecnologia de irrigação e quanto ao índice de perdas de abastecimento.\n",
    "\n",
    "| Irrigação             | Valor | Abastecimento público | Valor | Outros                 | Valor |\n",
    "|-----------------------|-------|-----------------------|-------|------------------------|-------|\n",
    "| Gotejamento           | 0,025 | Perdas ≤ 20%          | 0,85  | Demais usuários        | 1     |\n",
    "| Microaspersão         | 0,028 | 20% ≤ Perdas ≤25%     | 0,90  | Pecuária e aquicultura | 0,025 |\n",
    "| Pivô central          | 0,03  | 25% ≤ Perdas ≤30%     | 0,95  |\n",
    "| Autopropelido         | 0,04  | 30% ≤ Perdas ≤35%     | 1     |\n",
    "| Aspersão Convencional | 0,05  | 35% ≤ Perdas ≤40%     | 1,05  |\n",
    "| Sulcos de infiltração | 0,06  | Perdas > 40%          | 1,1   |\n",
    "| Inundação             | 0,07  | Não informado         | 1,1   |\n",
    "| Outro                 | 0,07  |\n",
    "| Não informado         | 0,07  |"
   ]
  },
  {
   "cell_type": "markdown",
   "metadata": {},
   "source": [
    "## Resultados"
   ]
  },
  {
   "cell_type": "markdown",
   "metadata": {},
   "source": [
    "## Discusão"
   ]
  },
  {
   "cell_type": "markdown",
   "metadata": {},
   "source": [
    "## Conclusão"
   ]
  },
  {
   "cell_type": "code",
   "execution_count": null,
   "metadata": {},
   "outputs": [],
   "source": []
  }
 ],
 "metadata": {
  "kernelspec": {
   "display_name": "Python 3",
   "language": "python",
   "name": "python3"
  },
  "language_info": {
   "codemirror_mode": {
    "name": "ipython",
    "version": 3
   },
   "file_extension": ".py",
   "mimetype": "text/x-python",
   "name": "python",
   "nbconvert_exporter": "python",
   "pygments_lexer": "ipython3",
   "version": "3.6.7"
  }
 },
 "nbformat": 4,
 "nbformat_minor": 4
}
