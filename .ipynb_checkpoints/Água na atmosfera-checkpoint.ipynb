{
 "cells": [
  {
   "cell_type": "markdown",
   "metadata": {},
   "source": [
    "# Programa de Pós-graduação em Recursos Hídricos e Sanemento - PPGRHS\n",
    "## Hidrologia\n",
    "\n",
    "**Água na atmosfera**\n",
    "\n",
    "Clebson Farias"
   ]
  },
  {
   "cell_type": "markdown",
   "metadata": {},
   "source": [
    "## **Questão 1** Assuma que as condições atmosféricas na manhã de 30 de janeiro de 2016 em Maceió indicavam uma temperatura do ar de $20^{o}C$, umidade relativa de $73\\%$ e pressão atmosférica de $10,4 m_{H_{2}O}$. Determine a pressão de vapor, umidade específica e temperatura do ponto de orvalho (caracteriza a formação de neblina) em Maceió naquela manhã."
   ]
  },
  {
   "cell_type": "code",
   "execution_count": 2,
   "metadata": {},
   "outputs": [],
   "source": [
    "temperatura_ar = 20\n",
    "umidade_relativa = 0.73\n",
    "atm = 10.4"
   ]
  },
  {
   "cell_type": "code",
   "execution_count": 17,
   "metadata": {},
   "outputs": [
    {
     "name": "stdout",
     "output_type": "stream",
     "text": [
      "Pressão Atm (Pa):  101989.16\n"
     ]
    }
   ],
   "source": [
    "def mca_to(mca, unidade_saida):\n",
    "    p = {'Pa': 9806.65, \n",
    "         'mmHg': 73.557,\n",
    "         'atm': 0.096787\n",
    "        }\n",
    "    return round(atm*p[unidade_saida],4)\n",
    "\n",
    "pressao = mca_to(atm, 'Pa')\n",
    "print('Pressão Atm (Pa): ', pressao)"
   ]
  },
  {
   "cell_type": "markdown",
   "metadata": {},
   "source": [
    "### Tensão de Vapor saturado: $e_{s}$:\n",
    "\n",
    "\\begin{equation}\n",
    "    e_{s} = A * 10^{\\frac{7.5 T}{237.3+T}}\n",
    "\\end{equation}\n",
    "\n",
    "Onde:\n",
    "\n",
    "- $A$ é o fator de conversão:\n",
    "    - $A = 4.58$, para $mm_{Hg}$;\n",
    "    - $A = 610.8$, para $Pa$\n",
    "- $T$ é a temperatura em $°C$"
   ]
  },
  {
   "cell_type": "code",
   "execution_count": 16,
   "metadata": {},
   "outputs": [
    {
     "name": "stdout",
     "output_type": "stream",
     "text": [
      "Pressão de vapor saturado (Pa):  2338.1701\n"
     ]
    }
   ],
   "source": [
    "def tensao_vapor_saturado(temperatura, unidade_saida):\n",
    "    \"\"\"\n",
    "    temperatura: Temperatura em °C\n",
    "    unidade_saida: Unidade de Saída\n",
    "    \"\"\"\n",
    "    A = {'mmHg': 4.58, \n",
    "         'Pa': 610.8}\n",
    "    \n",
    "    return round(A[unidade_saida] * 10 ** (7.5 * temperatura/(237.3 + temperatura)), 4)\n",
    "    \n",
    "tensao_vapor_sat = tensao_vapor_saturado(temperatura_ar, 'Pa')\n",
    "print('Pressão de vapor saturado (Pa): ', tensao_vapor_sat)"
   ]
  },
  {
   "cell_type": "markdown",
   "metadata": {},
   "source": [
    "### Tensão de parcial de vapor: $e_{a}$:\n",
    "\n",
    "\\begin{equation}\n",
    "    e_{a} = U_{r} * e_{s}\n",
    "\\end{equation}\n",
    "\n",
    "Onde:\n",
    "\n",
    "- $U_{r}$ Umidade relativa do ar:\n",
    "- $e_{s}$ é a tensão de vapor saturado"
   ]
  },
  {
   "cell_type": "code",
   "execution_count": 15,
   "metadata": {},
   "outputs": [
    {
     "name": "stdout",
     "output_type": "stream",
     "text": [
      "Pressão de vapor parcial (Pa):  1706.8642\n"
     ]
    }
   ],
   "source": [
    "def tensao_vapor_ar(umidade_relativa, tensao_vapor_sat):\n",
    "    return round(umidade_relativa * tensao_vapor_sat, 4)\n",
    "\n",
    "tensao_vapor = tensao_vapor_ar(umidade_relativa, tensao_vapor_sat)\n",
    "print('Pressão de vapor parcial (Pa): ', tensao_vapor)"
   ]
  },
  {
   "cell_type": "markdown",
   "metadata": {},
   "source": [
    "### Umidade específica: $q$:\n",
    "\n",
    "\\begin{equation}\n",
    "    q = \\varepsilon * \\frac{e_{a}}{P}\n",
    "\\end{equation}\n",
    "\n",
    "Onde:\n",
    "\n",
    "- $\\varepsilon$ é o pesso do ar seco; 0.622\n",
    "- $e_{a}$ é a pressão de vapor parcial;\n",
    "- $P$ é a Pressão"
   ]
  },
  {
   "cell_type": "code",
   "execution_count": 14,
   "metadata": {},
   "outputs": [
    {
     "name": "stdout",
     "output_type": "stream",
     "text": [
      "Umidade específica:  0.0104\n"
     ]
    }
   ],
   "source": [
    "def umidade_especifica(tensao_vapor_ar, pressao):\n",
    "    return round(0.622 * (tensao_vapor_ar/pressao), 4)\n",
    "\n",
    "umidade_esp = umidade_especifica(tensao_vapor, pressao)\n",
    "print('Umidade específica: ', umidade_esp)"
   ]
  }
 ],
 "metadata": {
  "kernelspec": {
   "display_name": "Python 3",
   "language": "python",
   "name": "python3"
  },
  "language_info": {
   "codemirror_mode": {
    "name": "ipython",
    "version": 3
   },
   "file_extension": ".py",
   "mimetype": "text/x-python",
   "name": "python",
   "nbconvert_exporter": "python",
   "pygments_lexer": "ipython3",
   "version": "3.6.7"
  }
 },
 "nbformat": 4,
 "nbformat_minor": 2
}
