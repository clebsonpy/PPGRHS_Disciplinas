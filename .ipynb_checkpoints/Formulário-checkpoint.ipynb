{
 "cells": [
  {
   "cell_type": "markdown",
   "metadata": {},
   "source": [
    "# Formulário Hidrologia\n",
    "Clebson Farias"
   ]
  },
  {
   "cell_type": "markdown",
   "metadata": {},
   "source": [
    "# Balanço\n",
    "\\begin{equation}\n",
    "    \\frac{\\Delta S}{\\Delta t} = P - Q\n",
    "\\end{equation}\n",
    "\n",
    "\\begin{equation}\n",
    "    S = S_{o} + P - Q\n",
    "\\end{equation}\n",
    "\n",
    "Onde:\n",
    "\n",
    "- $S$ -> Armazenamento;\n",
    "- $S_{o}$ -> Armazenamento inicial;\n",
    "- $P$ -> Precipitação (Entrada);\n",
    "- $Q$ -> Vazão (Saída)."
   ]
  },
  {
   "cell_type": "markdown",
   "metadata": {},
   "source": [
    "# Água no Solo"
   ]
  },
  {
   "cell_type": "markdown",
   "metadata": {},
   "source": [
    "## Horton\n",
    "### Infiltração Acumulada\n",
    "\n",
    "\\begin{equation}\n",
    "    f_{c}(t) = f_{1} + (f_{0} - f_{1}) · e^{-kt}\n",
    "\\end{equation}\n",
    "\n",
    "Onde:\n",
    "\n",
    "- $f_{c}$ -> Infiltração acumulada;\n",
    "- $f_{0}$ -> Taxa de infiltração inicial;\n",
    "- $f_{1}$ -> Taxa de infiltração final;\n",
    "- $k$ -> Parâmetro de decaimento;\n",
    "- $t$ -> Tempo."
   ]
  },
  {
   "cell_type": "markdown",
   "metadata": {},
   "source": [
    "## Infiltração - Gree-Ampt\n",
    "### Variação de Umidade\n",
    "\\begin{equation}\n",
    "    \\Delta \\theta = \\theta_{e} (1-s_{e})\n",
    "\\end{equation}\n",
    "\n",
    "Onde:\n",
    "\n",
    "- $\\Delta \\theta$ -> Variação de Umidade;\n",
    "- $theta_{e}$ -> Porosidade Efetiva;\n",
    "- $s_{e}$ -> Saturação efetiva inicial.\n",
    "\n",
    "\n",
    "### Infiltração Acumulada\n",
    "\\begin{equation}\n",
    "    F(t) = kt + \\psi \\Delta \\theta \\ln (1 + \\frac{F(t)}{\\psi \\Delta \\theta})\n",
    "\\end{equation}\n",
    "\n",
    "Onde:\n",
    "\n",
    "- $F(t)$ -> Infiltração acumulada;\n",
    "- $k$ -> Condutividade Hidráulica;\n",
    "- $t$ -> Tempo;\n",
    "- $\\psi$ -> Potencial Matricial;\n",
    "- $\\Delta \\theta$ -> Variação de Umidade;\n",
    "\n",
    "\n",
    "### Taxa de infiltração\n",
    "\\begin{equation}\n",
    "    f = k (1 + \\frac{\\psi \\Delta \\theta}{F(t)})\n",
    "\\end{equation}\n",
    "\n",
    "Onde:\n",
    "\n",
    "- $f$ -> Taxa de infiltração;\n",
    "- $k$ -> Condutividade Hidráulica;\n",
    "\n",
    "### Tempo de encharcamento\n",
    "\\begin{equation}\n",
    "    t_{e} = \\frac{k \\psi \\Delta \\theta}{i(i-k)}\n",
    "\\end{equation}\n",
    "\n",
    "Onde:\n",
    "\n",
    "- $t_{e}$ -> Taxa de infiltração;\n",
    "- $i$ -> Intensidade"
   ]
  },
  {
   "cell_type": "markdown",
   "metadata": {},
   "source": [
    "## Água na atmosfera\n",
    "\n",
    "### Tensão de Vapor saturado: $e_{s}$:\n",
    "\n",
    "\\begin{equation}\n",
    "    e_{s} = A * 10^{\\frac{7.5 T}{237.3+T}}\n",
    "\\end{equation}\n",
    "\n",
    "Onde:\n",
    "\n",
    "- $A$ é o fator de conversão:\n",
    "    - $A = 4.58$, para $mm_{Hg}$;\n",
    "    - $A = 610.8$, para $Pa$\n",
    "- $T$ é a temperatura em $°C$\n",
    "\n",
    "### Tensão de parcial de vapor: $e_{a}$:\n",
    "\n",
    "\\begin{equation}\n",
    "    e_{a} = U_{r} * e_{s}\n",
    "\\end{equation}\n",
    "\n",
    "Onde:\n",
    "\n",
    "- $U_{r}$ Umidade relativa do ar:\n",
    "- $e_{s}$ é a tensão de vapor saturado\n",
    "\n",
    "### Umidade específica: $q$:\n",
    "\n",
    "\\begin{equation}\n",
    "    q = \\varepsilon * \\frac{e_{a}}{P}\n",
    "\\end{equation}\n",
    "\n",
    "Onde:\n",
    "\n",
    "- $\\varepsilon$ é o pesso do ar seco; 0.622\n",
    "- $e_{a}$ é a pressão de vapor parcial;\n",
    "- $P$ é a Pressão\n",
    "\n",
    "### Ponto de Orvalho\n",
    "\\begin{equation}\n",
    "    T = \\frac{237.3 \\ln (\\frac{e}{A})}{7.5 - \\ln (\\frac{e}{A})}\n",
    "\\end{equation}\n",
    "\n",
    "Onde:\n",
    "\n",
    "- $e$ é a pressão de vapor parcial;\n",
    "- $A$ é o fator de conversão"
   ]
  },
  {
   "cell_type": "code",
   "execution_count": null,
   "metadata": {},
   "outputs": [],
   "source": []
  }
 ],
 "metadata": {
  "kernelspec": {
   "display_name": "Python 3",
   "language": "python",
   "name": "python3"
  },
  "language_info": {
   "codemirror_mode": {
    "name": "ipython",
    "version": 3
   },
   "file_extension": ".py",
   "mimetype": "text/x-python",
   "name": "python",
   "nbconvert_exporter": "python",
   "pygments_lexer": "ipython3",
   "version": "3.6.7"
  }
 },
 "nbformat": 4,
 "nbformat_minor": 2
}
