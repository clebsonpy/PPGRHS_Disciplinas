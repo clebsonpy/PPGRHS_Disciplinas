{
 "cells": [
  {
   "cell_type": "markdown",
   "metadata": {},
   "source": [
    "# Programa de Pós-graduação em Recursos Hídricos e Sanemento - PPGRHS\n",
    "## Hidrologia\n",
    "\n",
    "**Balanço Hídrico**\n",
    "\n",
    "Clebson Farias"
   ]
  },
  {
   "cell_type": "code",
   "execution_count": 102,
   "metadata": {},
   "outputs": [],
   "source": [
    "import pandas as pd\n",
    "import numpy as np\n",
    "import plotly as py\n",
    "import plotly.plotly as pyplot\n",
    "import plotly.graph_objs as go"
   ]
  },
  {
   "cell_type": "code",
   "execution_count": 103,
   "metadata": {},
   "outputs": [],
   "source": [
    "def plotlyCredenciais(username = 'clebsonpy', apiKey = 'qBKNP6BAO2mmPsaOTGq8'):\n",
    "    py.tools.set_credentials_file(username=username, api_key= apiKey)\n",
    "    py.tools.set_config_file(world_readable=True, sharing='public')\n",
    "plotlyCredenciais()"
   ]
  },
  {
   "cell_type": "code",
   "execution_count": 86,
   "metadata": {},
   "outputs": [
    {
     "data": {
      "text/plain": [
       "39"
      ]
     },
     "execution_count": 86,
     "metadata": {},
     "output_type": "execute_result"
    }
   ],
   "source": [
    "time = [\"01/08/13 10:00 PM\", \"01/08/13 11:00 PM\", \"01/09/13 12:00 AM\", \n",
    "        \"01/09/13 01:00 AM\", \"01/09/13 02:00 AM\", \"01/09/13 03:00 AM\", \n",
    "        \"01/09/13 04:00 AM\", \"01/09/13 05:00 AM\", \"01/09/13 06:00 AM\",\n",
    "        \"01/09/13 07:00 AM\", \"01/09/13 08:00 AM\", \"01/09/13 09:00 AM\",\n",
    "        \"01/09/13 10:00 AM\", \"01/09/13 11:00 AM\", \"01/09/13 12:00 PM\",\n",
    "        \"01/09/13 01:00 PM\", \"01/09/13 02:00 PM\", \"01/09/13 03:00 PM\",\n",
    "        \"01/09/13 04:00 PM\", \"01/09/13 05:00 PM\", \"01/09/13 06:00 PM\",\n",
    "        \"01/09/13 07:00 PM\", \"01/09/13 08:00 PM\", \"01/09/13 09:00 PM\", \n",
    "        \"01/09/13 10:00 PM\", \"01/09/13 11:00 PM\", \"01/10/13 12:00 AM\", \n",
    "        \"01/10/13 01:00 AM\", \"01/10/13 02:00 AM\", \"01/10/13 03:00 AM\",\n",
    "        \"01/10/13 04:00 AM\", \"01/10/13 05:00 AM\", \"01/10/13 06:00 AM\",\n",
    "        \"01/10/13 07:00 AM\", \"01/10/13 08:00 AM\", \"01/10/13 09:00 AM\",\n",
    "        \"01/10/13 10:00 AM\", \"01/10/13 11:00 AM\", \"01/10/13 12:00 PM\"]\n",
    "len(time)"
   ]
  },
  {
   "cell_type": "code",
   "execution_count": 87,
   "metadata": {},
   "outputs": [
    {
     "data": {
      "text/plain": [
       "39"
      ]
     },
     "execution_count": 87,
     "metadata": {},
     "output_type": "execute_result"
    }
   ],
   "source": [
    "precipitacao = [0.3, 0.0, 1.8, 7.9, 8.1, 7.1, 5.6, 2.8, 1.8, 4.1, 2.5, 0.8, 0.8, 0.3, 0.5, 0.3, 0.0,\n",
    "                0.0, 0.0, 0.0, 0.0, 0.0, 0.0, 0.0, 0.0, 0.0, 0.0, 0.0, 0.0, 0.0, 0.0, 0.0, 0.0, 0.0,\n",
    "                0.0, 0.0, 0.0, 0.0, 0.0]\n",
    "len(precipitacao)"
   ]
  },
  {
   "cell_type": "code",
   "execution_count": 88,
   "metadata": {},
   "outputs": [
    {
     "data": {
      "text/plain": [
       "39"
      ]
     },
     "execution_count": 88,
     "metadata": {},
     "output_type": "execute_result"
    }
   ],
   "source": [
    "vazao = [0.048, 0.095, 0.109, 0.616, 0.700, 12.292, 10.528, 8.960, 5.880, 5.068, \n",
    "         4.396, 5.572, 3.808, 2.940, 2.772, 2.128, 1.456, 1.260, 1.008, 0.868, 0.756, \n",
    "         0.644, 0.560, 0.504, 0.448, 0.392, 0.336, 0.336, 0.308, 0.269, 0.241, 0.216,\n",
    "         0.193, 0.174, 0.160, 0.148, 0.129, 0.129, 0.115]\n",
    "len(vazao)"
   ]
  },
  {
   "cell_type": "markdown",
   "metadata": {},
   "source": [
    "#### Dados de precipitação e vazão de uma estação telemétrica para um evento de chuva são mostrado na tabela abaixo."
   ]
  },
  {
   "cell_type": "code",
   "execution_count": 89,
   "metadata": {},
   "outputs": [
    {
     "data": {
      "text/html": [
       "<div>\n",
       "<style scoped>\n",
       "    .dataframe tbody tr th:only-of-type {\n",
       "        vertical-align: middle;\n",
       "    }\n",
       "\n",
       "    .dataframe tbody tr th {\n",
       "        vertical-align: top;\n",
       "    }\n",
       "\n",
       "    .dataframe thead th {\n",
       "        text-align: right;\n",
       "    }\n",
       "</style>\n",
       "<table border=\"1\" class=\"dataframe\">\n",
       "  <thead>\n",
       "    <tr style=\"text-align: right;\">\n",
       "      <th></th>\n",
       "      <th>P</th>\n",
       "      <th>Q</th>\n",
       "    </tr>\n",
       "  </thead>\n",
       "  <tbody>\n",
       "    <tr>\n",
       "      <th>01/08/13 10:00 PM</th>\n",
       "      <td>0.3</td>\n",
       "      <td>0.048</td>\n",
       "    </tr>\n",
       "    <tr>\n",
       "      <th>01/08/13 11:00 PM</th>\n",
       "      <td>0.0</td>\n",
       "      <td>0.095</td>\n",
       "    </tr>\n",
       "    <tr>\n",
       "      <th>01/09/13 12:00 AM</th>\n",
       "      <td>1.8</td>\n",
       "      <td>0.109</td>\n",
       "    </tr>\n",
       "    <tr>\n",
       "      <th>01/09/13 01:00 AM</th>\n",
       "      <td>7.9</td>\n",
       "      <td>0.616</td>\n",
       "    </tr>\n",
       "    <tr>\n",
       "      <th>01/09/13 02:00 AM</th>\n",
       "      <td>8.1</td>\n",
       "      <td>0.700</td>\n",
       "    </tr>\n",
       "  </tbody>\n",
       "</table>\n",
       "</div>"
      ],
      "text/plain": [
       "                     P      Q\n",
       "01/08/13 10:00 PM  0.3  0.048\n",
       "01/08/13 11:00 PM  0.0  0.095\n",
       "01/09/13 12:00 AM  1.8  0.109\n",
       "01/09/13 01:00 AM  7.9  0.616\n",
       "01/09/13 02:00 AM  8.1  0.700"
      ]
     },
     "execution_count": 89,
     "metadata": {},
     "output_type": "execute_result"
    }
   ],
   "source": [
    "dados = {\"P\": precipitacao, \"Q\": vazao}\n",
    "dados = pd.DataFrame(dados, index=time)\n",
    "area = 31.82\n",
    "dados.head()"
   ]
  },
  {
   "cell_type": "markdown",
   "metadata": {},
   "source": [
    "#### Mostre como a distribuição de armazenamento se dará assumindo que a bacia passou por um longo período de estiagem antes deste evento(ou seja, **armazenamento inicial é zero**)."
   ]
  },
  {
   "cell_type": "markdown",
   "metadata": {},
   "source": [
    "#### **Variação de armazenamento**"
   ]
  },
  {
   "cell_type": "code",
   "execution_count": 90,
   "metadata": {},
   "outputs": [],
   "source": [
    "def armazenamento(dados, so, area):\n",
    "    fator = 3.6\n",
    "    s = pd.DataFrame(so + dados.P - ((dados.Q/area) * 3.6), columns=[\"S\"])\n",
    "    \n",
    "    return dados.combine_first(s)\n",
    "\n",
    "dados = armazenamento(dados, 0, area)"
   ]
  },
  {
   "cell_type": "markdown",
   "metadata": {},
   "source": [
    "#### **Armazenamento Acumulado**"
   ]
  },
  {
   "cell_type": "code",
   "execution_count": 91,
   "metadata": {},
   "outputs": [],
   "source": [
    "def armazenamento_acumulado(dados):\n",
    "    s_a = pd.Series(dados.S.cumsum(), name=\"S_A\")\n",
    "    \n",
    "    return dados.combine_first(pd.DataFrame(s_a))\n",
    "\n",
    "dados = armazenamento_acumulado(dados)"
   ]
  },
  {
   "cell_type": "code",
   "execution_count": 92,
   "metadata": {},
   "outputs": [
    {
     "data": {
      "text/html": [
       "<div>\n",
       "<style scoped>\n",
       "    .dataframe tbody tr th:only-of-type {\n",
       "        vertical-align: middle;\n",
       "    }\n",
       "\n",
       "    .dataframe tbody tr th {\n",
       "        vertical-align: top;\n",
       "    }\n",
       "\n",
       "    .dataframe thead th {\n",
       "        text-align: right;\n",
       "    }\n",
       "</style>\n",
       "<table border=\"1\" class=\"dataframe\">\n",
       "  <thead>\n",
       "    <tr style=\"text-align: right;\">\n",
       "      <th></th>\n",
       "      <th>P</th>\n",
       "      <th>Q</th>\n",
       "      <th>S</th>\n",
       "      <th>S_A</th>\n",
       "    </tr>\n",
       "  </thead>\n",
       "  <tbody>\n",
       "    <tr>\n",
       "      <th>01/08/13 10:00 PM</th>\n",
       "      <td>0.3</td>\n",
       "      <td>0.048</td>\n",
       "      <td>0.294569</td>\n",
       "      <td>0.294569</td>\n",
       "    </tr>\n",
       "    <tr>\n",
       "      <th>01/08/13 11:00 PM</th>\n",
       "      <td>0.0</td>\n",
       "      <td>0.095</td>\n",
       "      <td>-0.010748</td>\n",
       "      <td>0.283821</td>\n",
       "    </tr>\n",
       "    <tr>\n",
       "      <th>01/09/13 12:00 AM</th>\n",
       "      <td>1.8</td>\n",
       "      <td>0.109</td>\n",
       "      <td>1.787668</td>\n",
       "      <td>2.071490</td>\n",
       "    </tr>\n",
       "    <tr>\n",
       "      <th>01/09/13 01:00 AM</th>\n",
       "      <td>7.9</td>\n",
       "      <td>0.616</td>\n",
       "      <td>7.830308</td>\n",
       "      <td>9.901798</td>\n",
       "    </tr>\n",
       "    <tr>\n",
       "      <th>01/09/13 02:00 AM</th>\n",
       "      <td>8.1</td>\n",
       "      <td>0.700</td>\n",
       "      <td>8.020805</td>\n",
       "      <td>17.922602</td>\n",
       "    </tr>\n",
       "  </tbody>\n",
       "</table>\n",
       "</div>"
      ],
      "text/plain": [
       "                     P      Q         S        S_A\n",
       "01/08/13 10:00 PM  0.3  0.048  0.294569   0.294569\n",
       "01/08/13 11:00 PM  0.0  0.095 -0.010748   0.283821\n",
       "01/09/13 12:00 AM  1.8  0.109  1.787668   2.071490\n",
       "01/09/13 01:00 AM  7.9  0.616  7.830308   9.901798\n",
       "01/09/13 02:00 AM  8.1  0.700  8.020805  17.922602"
      ]
     },
     "execution_count": 92,
     "metadata": {},
     "output_type": "execute_result"
    }
   ],
   "source": [
    "dados.head(5)"
   ]
  },
  {
   "cell_type": "markdown",
   "metadata": {},
   "source": [
    "### Gráfico variação de armazenamento e armazenamento acumulado:"
   ]
  },
  {
   "cell_type": "code",
   "execution_count": 109,
   "metadata": {},
   "outputs": [
    {
     "data": {
      "text/html": [
       "<iframe id=\"igraph\" scrolling=\"no\" style=\"border:none;\" seamless=\"seamless\" src=\"https://plot.ly/~clebsonpy/61.embed\" height=\"525px\" width=\"100%\"></iframe>"
      ],
      "text/plain": [
       "<chart_studio.tools.PlotlyDisplay object>"
      ]
     },
     "execution_count": 109,
     "metadata": {},
     "output_type": "execute_result"
    }
   ],
   "source": [
    "traceS = go.Scatter(\n",
    "    x = dados.index,\n",
    "    y = dados.S,\n",
    "    name = \"Variação\"\n",
    ")\n",
    "traceA = go.Scatter(\n",
    "    x = dados.index,\n",
    "    y = dados.S_A,\n",
    "    name = \"Acumulada\"\n",
    ")\n",
    "\n",
    "data = [traceS, traceA]\n",
    "pyplot.iplot(data)"
   ]
  },
  {
   "cell_type": "markdown",
   "metadata": {},
   "source": [
    "#### **Total Precipitado e escoado!**"
   ]
  },
  {
   "cell_type": "code",
   "execution_count": 73,
   "metadata": {},
   "outputs": [
    {
     "name": "stdout",
     "output_type": "stream",
     "text": [
      "Total Precipitado: 44.7\n",
      "Total Escoado: 76.562\n"
     ]
    }
   ],
   "source": [
    "total_P = dados.P.sum()\n",
    "total_Q = dados.Q.sum()\n",
    "print(\"Total Precipitado:\", total_P)\n",
    "print(\"Total Escoado:\", total_Q)"
   ]
  },
  {
   "cell_type": "markdown",
   "metadata": {},
   "source": []
  },
  {
   "cell_type": "code",
   "execution_count": null,
   "metadata": {},
   "outputs": [],
   "source": []
  }
 ],
 "metadata": {
  "kernelspec": {
   "display_name": "Python 3",
   "language": "python",
   "name": "python3"
  },
  "language_info": {
   "codemirror_mode": {
    "name": "ipython",
    "version": 3
   },
   "file_extension": ".py",
   "mimetype": "text/x-python",
   "name": "python",
   "nbconvert_exporter": "python",
   "pygments_lexer": "ipython3",
   "version": "3.6.7"
  }
 },
 "nbformat": 4,
 "nbformat_minor": 2
}
