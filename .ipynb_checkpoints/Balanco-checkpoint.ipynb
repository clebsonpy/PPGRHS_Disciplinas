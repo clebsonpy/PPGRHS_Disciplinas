{
 "cells": [
  {
   "cell_type": "markdown",
   "metadata": {},
   "source": [
    "# Programa de Pós-graduação em Recursos Hídricos e Sanemento - PPGRHS\n",
    "## Hidrologia\n",
    "\n",
    "**Balanço Hídrico**\n",
    "\n",
    "Clebson Farias"
   ]
  },
  {
   "cell_type": "code",
   "execution_count": 9,
   "metadata": {},
   "outputs": [],
   "source": [
    "import pandas as pd\n",
    "import numpy as np\n",
    "import plotly as py\n",
    "import matplotlib.pyplot as plt"
   ]
  },
  {
   "cell_type": "code",
   "execution_count": 2,
   "metadata": {},
   "outputs": [
    {
     "data": {
      "text/plain": [
       "39"
      ]
     },
     "execution_count": 2,
     "metadata": {},
     "output_type": "execute_result"
    }
   ],
   "source": [
    "time = [\"01/08/13 10:00 PM\", \"01/08/13 11:00 PM\", \"01/09/13 12:00 AM\", \n",
    "        \"01/09/13 01:00 AM\", \"01/09/13 02:00 AM\", \"01/09/13 03:00 AM\", \n",
    "        \"01/09/13 04:00 AM\", \"01/09/13 05:00 AM\", \"01/09/13 06:00 AM\",\n",
    "        \"01/09/13 07:00 AM\", \"01/09/13 08:00 AM\", \"01/09/13 09:00 AM\",\n",
    "        \"01/09/13 10:00 AM\", \"01/09/13 11:00 AM\", \"01/09/13 12:00 PM\",\n",
    "        \"01/09/13 01:00 PM\", \"01/09/13 02:00 PM\", \"01/09/13 03:00 PM\",\n",
    "        \"01/09/13 04:00 PM\", \"01/09/13 05:00 PM\", \"01/09/13 06:00 PM\",\n",
    "        \"01/09/13 07:00 PM\", \"01/09/13 08:00 PM\", \"01/09/13 09:00 PM\", \n",
    "        \"01/09/13 10:00 PM\", \"01/09/13 11:00 PM\", \"01/10/13 12:00 AM\", \n",
    "        \"01/10/13 01:00 AM\", \"01/10/13 02:00 AM\", \"01/10/13 03:00 AM\",\n",
    "        \"01/10/13 04:00 AM\", \"01/10/13 05:00 AM\", \"01/10/13 06:00 AM\",\n",
    "        \"01/10/13 07:00 AM\", \"01/10/13 08:00 AM\", \"01/10/13 09:00 AM\",\n",
    "        \"01/10/13 10:00 AM\", \"01/10/13 11:00 AM\", \"01/10/13 12:00 PM\"]\n",
    "len(time)"
   ]
  },
  {
   "cell_type": "code",
   "execution_count": 3,
   "metadata": {},
   "outputs": [
    {
     "data": {
      "text/plain": [
       "39"
      ]
     },
     "execution_count": 3,
     "metadata": {},
     "output_type": "execute_result"
    }
   ],
   "source": [
    "precipitacao = [0.3, 0.0, 1.8, 7.9, 8.1, 7.1, 5.6, 2.8, 1.8, 4.1, 2.5, 0.8, 0.8, 0.3, 0.5, 0.3, 0.0,\n",
    "                0.0, 0.0, 0.0, 0.0, 0.0, 0.0, 0.0, 0.0, 0.0, 0.0, 0.0, 0.0, 0.0, 0.0, 0.0, 0.0, 0.0,\n",
    "                0.0, 0.0, 0.0, 0.0, 0.0]\n",
    "len(precipitacao)"
   ]
  },
  {
   "cell_type": "code",
   "execution_count": 4,
   "metadata": {},
   "outputs": [
    {
     "data": {
      "text/plain": [
       "39"
      ]
     },
     "execution_count": 4,
     "metadata": {},
     "output_type": "execute_result"
    }
   ],
   "source": [
    "vazao = [0.048, 0.095, 0.109, 0.616, 0.700, 12.292, 10.528, 8.960, 5.880, 5.068, \n",
    "         4.396, 5.572, 3.808, 2.940, 2.772, 2.128, 1.456, 1.260, 1.008, 0.868, 0.756, \n",
    "         0.644, 0.560, 0.504, 0.448, 0.392, 0.336, 0.336, 0.308, 0.269, 0.241, 0.216,\n",
    "         0.193, 0.174, 0.160, 0.148, 0.129, 0.129, 0.115]\n",
    "len(vazao)"
   ]
  },
  {
   "cell_type": "markdown",
   "metadata": {},
   "source": [
    "### Dados de precipitação e vazão de uma estação telemétrica para um evento de chuva são mostrado na tabela abaixo."
   ]
  },
  {
   "cell_type": "code",
   "execution_count": 35,
   "metadata": {},
   "outputs": [
    {
     "data": {
      "text/html": [
       "<div>\n",
       "<style scoped>\n",
       "    .dataframe tbody tr th:only-of-type {\n",
       "        vertical-align: middle;\n",
       "    }\n",
       "\n",
       "    .dataframe tbody tr th {\n",
       "        vertical-align: top;\n",
       "    }\n",
       "\n",
       "    .dataframe thead th {\n",
       "        text-align: right;\n",
       "    }\n",
       "</style>\n",
       "<table border=\"1\" class=\"dataframe\">\n",
       "  <thead>\n",
       "    <tr style=\"text-align: right;\">\n",
       "      <th></th>\n",
       "      <th>P</th>\n",
       "      <th>Q</th>\n",
       "    </tr>\n",
       "  </thead>\n",
       "  <tbody>\n",
       "    <tr>\n",
       "      <th>01/08/13 10:00 PM</th>\n",
       "      <td>0.3</td>\n",
       "      <td>0.048</td>\n",
       "    </tr>\n",
       "    <tr>\n",
       "      <th>01/08/13 11:00 PM</th>\n",
       "      <td>0.0</td>\n",
       "      <td>0.095</td>\n",
       "    </tr>\n",
       "    <tr>\n",
       "      <th>01/09/13 12:00 AM</th>\n",
       "      <td>1.8</td>\n",
       "      <td>0.109</td>\n",
       "    </tr>\n",
       "    <tr>\n",
       "      <th>01/09/13 01:00 AM</th>\n",
       "      <td>7.9</td>\n",
       "      <td>0.616</td>\n",
       "    </tr>\n",
       "    <tr>\n",
       "      <th>01/09/13 02:00 AM</th>\n",
       "      <td>8.1</td>\n",
       "      <td>0.700</td>\n",
       "    </tr>\n",
       "  </tbody>\n",
       "</table>\n",
       "</div>"
      ],
      "text/plain": [
       "                     P      Q\n",
       "01/08/13 10:00 PM  0.3  0.048\n",
       "01/08/13 11:00 PM  0.0  0.095\n",
       "01/09/13 12:00 AM  1.8  0.109\n",
       "01/09/13 01:00 AM  7.9  0.616\n",
       "01/09/13 02:00 AM  8.1  0.700"
      ]
     },
     "execution_count": 35,
     "metadata": {},
     "output_type": "execute_result"
    }
   ],
   "source": [
    "dados = {\"P\": precipitacao, \"Q\": vazao}\n",
    "dados = pd.DataFrame(dados, index=time)\n",
    "area = 31.82\n",
    "dados.head()"
   ]
  },
  {
   "cell_type": "markdown",
   "metadata": {},
   "source": [
    "#### Mostre como a distribuição de armazenamento se dará assumindo que a bacia passou por um longo período de estiagem antes deste evento(ou seja, **armazenamento inicial é zero**)."
   ]
  },
  {
   "cell_type": "markdown",
   "metadata": {},
   "source": [
    "#### **Variação de armazenamento**"
   ]
  },
  {
   "cell_type": "code",
   "execution_count": 36,
   "metadata": {},
   "outputs": [],
   "source": [
    "def armazenamento(dados, so, area):\n",
    "    fator = 3.6\n",
    "    s = pd.DataFrame(so + dados.P - ((dados.Q/area) * 3.6), columns=[\"S\"])\n",
    "    \n",
    "    return dados.combine_first(s)\n",
    "\n",
    "dados = armazenamento(dados, 0, area)"
   ]
  },
  {
   "cell_type": "markdown",
   "metadata": {},
   "source": [
    "#### **Armazenamento Acumulado**"
   ]
  },
  {
   "cell_type": "code",
   "execution_count": 37,
   "metadata": {},
   "outputs": [],
   "source": [
    "def armazenamento_acumulado(dados):\n",
    "    s_a = pd.Series(dados.S.cumsum(), name=\"S_A\")\n",
    "    \n",
    "    return dados.combine_first(pd.DataFrame(s_a))\n",
    "\n",
    "dados = armazenamento_acumulado(dados)"
   ]
  },
  {
   "cell_type": "code",
   "execution_count": 38,
   "metadata": {},
   "outputs": [
    {
     "data": {
      "text/html": [
       "<div>\n",
       "<style scoped>\n",
       "    .dataframe tbody tr th:only-of-type {\n",
       "        vertical-align: middle;\n",
       "    }\n",
       "\n",
       "    .dataframe tbody tr th {\n",
       "        vertical-align: top;\n",
       "    }\n",
       "\n",
       "    .dataframe thead th {\n",
       "        text-align: right;\n",
       "    }\n",
       "</style>\n",
       "<table border=\"1\" class=\"dataframe\">\n",
       "  <thead>\n",
       "    <tr style=\"text-align: right;\">\n",
       "      <th></th>\n",
       "      <th>P</th>\n",
       "      <th>Q</th>\n",
       "      <th>S</th>\n",
       "      <th>S_A</th>\n",
       "    </tr>\n",
       "  </thead>\n",
       "  <tbody>\n",
       "    <tr>\n",
       "      <th>01/08/13 10:00 PM</th>\n",
       "      <td>0.3</td>\n",
       "      <td>0.048</td>\n",
       "      <td>0.294569</td>\n",
       "      <td>0.294569</td>\n",
       "    </tr>\n",
       "    <tr>\n",
       "      <th>01/08/13 11:00 PM</th>\n",
       "      <td>0.0</td>\n",
       "      <td>0.095</td>\n",
       "      <td>-0.010748</td>\n",
       "      <td>0.283821</td>\n",
       "    </tr>\n",
       "    <tr>\n",
       "      <th>01/09/13 12:00 AM</th>\n",
       "      <td>1.8</td>\n",
       "      <td>0.109</td>\n",
       "      <td>1.787668</td>\n",
       "      <td>2.071490</td>\n",
       "    </tr>\n",
       "    <tr>\n",
       "      <th>01/09/13 01:00 AM</th>\n",
       "      <td>7.9</td>\n",
       "      <td>0.616</td>\n",
       "      <td>7.830308</td>\n",
       "      <td>9.901798</td>\n",
       "    </tr>\n",
       "    <tr>\n",
       "      <th>01/09/13 02:00 AM</th>\n",
       "      <td>8.1</td>\n",
       "      <td>0.700</td>\n",
       "      <td>8.020805</td>\n",
       "      <td>17.922602</td>\n",
       "    </tr>\n",
       "  </tbody>\n",
       "</table>\n",
       "</div>"
      ],
      "text/plain": [
       "                     P      Q         S        S_A\n",
       "01/08/13 10:00 PM  0.3  0.048  0.294569   0.294569\n",
       "01/08/13 11:00 PM  0.0  0.095 -0.010748   0.283821\n",
       "01/09/13 12:00 AM  1.8  0.109  1.787668   2.071490\n",
       "01/09/13 01:00 AM  7.9  0.616  7.830308   9.901798\n",
       "01/09/13 02:00 AM  8.1  0.700  8.020805  17.922602"
      ]
     },
     "execution_count": 38,
     "metadata": {},
     "output_type": "execute_result"
    }
   ],
   "source": [
    "dados.head(5)"
   ]
  },
  {
   "cell_type": "markdown",
   "metadata": {},
   "source": [
    "#### **Total Precipitado e escoado!**"
   ]
  },
  {
   "cell_type": "code",
   "execution_count": 39,
   "metadata": {},
   "outputs": [
    {
     "name": "stdout",
     "output_type": "stream",
     "text": [
      "Total Precipitado: 44.7\n",
      "Total Escoado: 76.562\n"
     ]
    }
   ],
   "source": [
    "total_P = dados.P.sum()\n",
    "total_Q = dados.Q.sum()\n",
    "print(\"Total Precipitado:\", total_P)\n",
    "print(\"Total Escoado:\", total_Q)"
   ]
  },
  {
   "cell_type": "markdown",
   "metadata": {},
   "source": [
    "#### **Total de água que ficou retido na bacia até o final do evento?**"
   ]
  },
  {
   "cell_type": "code",
   "execution_count": 40,
   "metadata": {},
   "outputs": [
    {
     "name": "stdout",
     "output_type": "stream",
     "text": [
      "Total Armazenado: 37.242954116907605\n"
     ]
    }
   ],
   "source": [
    "total_S = dados.S_A.max()\n",
    "print(\"Total Armazenado:\", total_S)"
   ]
  },
  {
   "cell_type": "markdown",
   "metadata": {},
   "source": [
    "#### **Qual o percentual de precipitação que foi escoado?**"
   ]
  },
  {
   "cell_type": "code",
   "execution_count": null,
   "metadata": {},
   "outputs": [],
   "source": []
  },
  {
   "cell_type": "markdown",
   "metadata": {},
   "source": [
    "### Gráfico variação de armazenamento e armazenamento acumulado:"
   ]
  },
  {
   "cell_type": "code",
   "execution_count": 41,
   "metadata": {},
   "outputs": [
    {
     "data": {
      "image/png": "[encoded data removed]",
      "text/plain": [
       "<Figure size 432x288 with 1 Axes>"
      ]
     },
     "metadata": {
      "needs_background": "light"
     },
     "output_type": "display_data"
    }
   ],
   "source": [
    "t = dados.index\n",
    "data1 = dados.S\n",
    "data2 = dados.S_A\n",
    "\n",
    "plt.plot(t, data1, data2)\n",
    "plt.show()"
   ]
  },
  {
   "cell_type": "code",
   "execution_count": 42,
   "metadata": {},
   "outputs": [
    {
     "data": {
      "text/html": [
       "<div>\n",
       "<style scoped>\n",
       "    .dataframe tbody tr th:only-of-type {\n",
       "        vertical-align: middle;\n",
       "    }\n",
       "\n",
       "    .dataframe tbody tr th {\n",
       "        vertical-align: top;\n",
       "    }\n",
       "\n",
       "    .dataframe thead th {\n",
       "        text-align: right;\n",
       "    }\n",
       "</style>\n",
       "<table border=\"1\" class=\"dataframe\">\n",
       "  <thead>\n",
       "    <tr style=\"text-align: right;\">\n",
       "      <th></th>\n",
       "      <th>P</th>\n",
       "      <th>Q</th>\n",
       "      <th>S</th>\n",
       "      <th>S_A</th>\n",
       "    </tr>\n",
       "  </thead>\n",
       "  <tbody>\n",
       "    <tr>\n",
       "      <th>01/08/13 10:00 PM</th>\n",
       "      <td>0.3</td>\n",
       "      <td>0.005431</td>\n",
       "      <td>0.294569</td>\n",
       "      <td>0.294569</td>\n",
       "    </tr>\n",
       "    <tr>\n",
       "      <th>01/08/13 11:00 PM</th>\n",
       "      <td>0.0</td>\n",
       "      <td>0.010748</td>\n",
       "      <td>-0.010748</td>\n",
       "      <td>0.283821</td>\n",
       "    </tr>\n",
       "    <tr>\n",
       "      <th>01/09/13 12:00 AM</th>\n",
       "      <td>1.8</td>\n",
       "      <td>0.012332</td>\n",
       "      <td>1.787668</td>\n",
       "      <td>2.071490</td>\n",
       "    </tr>\n",
       "    <tr>\n",
       "      <th>01/09/13 01:00 AM</th>\n",
       "      <td>7.9</td>\n",
       "      <td>0.069692</td>\n",
       "      <td>7.830308</td>\n",
       "      <td>9.901798</td>\n",
       "    </tr>\n",
       "    <tr>\n",
       "      <th>01/09/13 02:00 AM</th>\n",
       "      <td>8.1</td>\n",
       "      <td>0.079195</td>\n",
       "      <td>8.020805</td>\n",
       "      <td>17.922602</td>\n",
       "    </tr>\n",
       "    <tr>\n",
       "      <th>01/09/13 03:00 AM</th>\n",
       "      <td>7.1</td>\n",
       "      <td>1.390673</td>\n",
       "      <td>5.709327</td>\n",
       "      <td>23.631930</td>\n",
       "    </tr>\n",
       "    <tr>\n",
       "      <th>01/09/13 04:00 AM</th>\n",
       "      <td>5.6</td>\n",
       "      <td>1.191100</td>\n",
       "      <td>4.408900</td>\n",
       "      <td>28.040830</td>\n",
       "    </tr>\n",
       "    <tr>\n",
       "      <th>01/09/13 05:00 AM</th>\n",
       "      <td>2.8</td>\n",
       "      <td>1.013702</td>\n",
       "      <td>1.786298</td>\n",
       "      <td>29.827128</td>\n",
       "    </tr>\n",
       "    <tr>\n",
       "      <th>01/09/13 06:00 AM</th>\n",
       "      <td>1.8</td>\n",
       "      <td>0.665242</td>\n",
       "      <td>1.134758</td>\n",
       "      <td>30.961886</td>\n",
       "    </tr>\n",
       "    <tr>\n",
       "      <th>01/09/13 07:00 AM</th>\n",
       "      <td>4.1</td>\n",
       "      <td>0.573375</td>\n",
       "      <td>3.526625</td>\n",
       "      <td>34.488510</td>\n",
       "    </tr>\n",
       "    <tr>\n",
       "      <th>01/09/13 08:00 AM</th>\n",
       "      <td>2.5</td>\n",
       "      <td>0.497348</td>\n",
       "      <td>2.002652</td>\n",
       "      <td>36.491163</td>\n",
       "    </tr>\n",
       "    <tr>\n",
       "      <th>01/09/13 09:00 AM</th>\n",
       "      <td>0.8</td>\n",
       "      <td>0.630396</td>\n",
       "      <td>0.169604</td>\n",
       "      <td>36.660767</td>\n",
       "    </tr>\n",
       "    <tr>\n",
       "      <th>01/09/13 10:00 AM</th>\n",
       "      <td>0.8</td>\n",
       "      <td>0.430823</td>\n",
       "      <td>0.369177</td>\n",
       "      <td>37.029943</td>\n",
       "    </tr>\n",
       "    <tr>\n",
       "      <th>01/09/13 11:00 AM</th>\n",
       "      <td>0.3</td>\n",
       "      <td>0.332621</td>\n",
       "      <td>-0.032621</td>\n",
       "      <td>36.997322</td>\n",
       "    </tr>\n",
       "    <tr>\n",
       "      <th>01/09/13 12:00 PM</th>\n",
       "      <td>0.5</td>\n",
       "      <td>0.313614</td>\n",
       "      <td>0.186386</td>\n",
       "      <td>37.183708</td>\n",
       "    </tr>\n",
       "    <tr>\n",
       "      <th>01/09/13 01:00 PM</th>\n",
       "      <td>0.3</td>\n",
       "      <td>0.240754</td>\n",
       "      <td>0.059246</td>\n",
       "      <td>37.242954</td>\n",
       "    </tr>\n",
       "    <tr>\n",
       "      <th>01/09/13 02:00 PM</th>\n",
       "      <td>0.0</td>\n",
       "      <td>0.164727</td>\n",
       "      <td>-0.164727</td>\n",
       "      <td>37.078228</td>\n",
       "    </tr>\n",
       "    <tr>\n",
       "      <th>01/09/13 03:00 PM</th>\n",
       "      <td>0.0</td>\n",
       "      <td>0.142552</td>\n",
       "      <td>-0.142552</td>\n",
       "      <td>36.935676</td>\n",
       "    </tr>\n",
       "    <tr>\n",
       "      <th>01/09/13 04:00 PM</th>\n",
       "      <td>0.0</td>\n",
       "      <td>0.114041</td>\n",
       "      <td>-0.114041</td>\n",
       "      <td>36.821634</td>\n",
       "    </tr>\n",
       "    <tr>\n",
       "      <th>01/09/13 05:00 PM</th>\n",
       "      <td>0.0</td>\n",
       "      <td>0.098202</td>\n",
       "      <td>-0.098202</td>\n",
       "      <td>36.723432</td>\n",
       "    </tr>\n",
       "    <tr>\n",
       "      <th>01/09/13 06:00 PM</th>\n",
       "      <td>0.0</td>\n",
       "      <td>0.085531</td>\n",
       "      <td>-0.085531</td>\n",
       "      <td>36.637901</td>\n",
       "    </tr>\n",
       "    <tr>\n",
       "      <th>01/09/13 07:00 PM</th>\n",
       "      <td>0.0</td>\n",
       "      <td>0.072860</td>\n",
       "      <td>-0.072860</td>\n",
       "      <td>36.565041</td>\n",
       "    </tr>\n",
       "    <tr>\n",
       "      <th>01/09/13 08:00 PM</th>\n",
       "      <td>0.0</td>\n",
       "      <td>0.063356</td>\n",
       "      <td>-0.063356</td>\n",
       "      <td>36.501684</td>\n",
       "    </tr>\n",
       "    <tr>\n",
       "      <th>01/09/13 09:00 PM</th>\n",
       "      <td>0.0</td>\n",
       "      <td>0.057021</td>\n",
       "      <td>-0.057021</td>\n",
       "      <td>36.444664</td>\n",
       "    </tr>\n",
       "    <tr>\n",
       "      <th>01/09/13 10:00 PM</th>\n",
       "      <td>0.0</td>\n",
       "      <td>0.050685</td>\n",
       "      <td>-0.050685</td>\n",
       "      <td>36.393979</td>\n",
       "    </tr>\n",
       "    <tr>\n",
       "      <th>01/09/13 11:00 PM</th>\n",
       "      <td>0.0</td>\n",
       "      <td>0.044349</td>\n",
       "      <td>-0.044349</td>\n",
       "      <td>36.349629</td>\n",
       "    </tr>\n",
       "    <tr>\n",
       "      <th>01/10/13 12:00 AM</th>\n",
       "      <td>0.0</td>\n",
       "      <td>0.038014</td>\n",
       "      <td>-0.038014</td>\n",
       "      <td>36.311615</td>\n",
       "    </tr>\n",
       "    <tr>\n",
       "      <th>01/10/13 01:00 AM</th>\n",
       "      <td>0.0</td>\n",
       "      <td>0.038014</td>\n",
       "      <td>-0.038014</td>\n",
       "      <td>36.273602</td>\n",
       "    </tr>\n",
       "    <tr>\n",
       "      <th>01/10/13 02:00 AM</th>\n",
       "      <td>0.0</td>\n",
       "      <td>0.034846</td>\n",
       "      <td>-0.034846</td>\n",
       "      <td>36.238755</td>\n",
       "    </tr>\n",
       "    <tr>\n",
       "      <th>01/10/13 03:00 AM</th>\n",
       "      <td>0.0</td>\n",
       "      <td>0.030434</td>\n",
       "      <td>-0.030434</td>\n",
       "      <td>36.208322</td>\n",
       "    </tr>\n",
       "    <tr>\n",
       "      <th>01/10/13 04:00 AM</th>\n",
       "      <td>0.0</td>\n",
       "      <td>0.027266</td>\n",
       "      <td>-0.027266</td>\n",
       "      <td>36.181056</td>\n",
       "    </tr>\n",
       "    <tr>\n",
       "      <th>01/10/13 05:00 AM</th>\n",
       "      <td>0.0</td>\n",
       "      <td>0.024437</td>\n",
       "      <td>-0.024437</td>\n",
       "      <td>36.156618</td>\n",
       "    </tr>\n",
       "    <tr>\n",
       "      <th>01/10/13 06:00 AM</th>\n",
       "      <td>0.0</td>\n",
       "      <td>0.021835</td>\n",
       "      <td>-0.021835</td>\n",
       "      <td>36.134783</td>\n",
       "    </tr>\n",
       "    <tr>\n",
       "      <th>01/10/13 07:00 AM</th>\n",
       "      <td>0.0</td>\n",
       "      <td>0.019686</td>\n",
       "      <td>-0.019686</td>\n",
       "      <td>36.115097</td>\n",
       "    </tr>\n",
       "    <tr>\n",
       "      <th>01/10/13 08:00 AM</th>\n",
       "      <td>0.0</td>\n",
       "      <td>0.018102</td>\n",
       "      <td>-0.018102</td>\n",
       "      <td>36.096996</td>\n",
       "    </tr>\n",
       "    <tr>\n",
       "      <th>01/10/13 09:00 AM</th>\n",
       "      <td>0.0</td>\n",
       "      <td>0.016744</td>\n",
       "      <td>-0.016744</td>\n",
       "      <td>36.080251</td>\n",
       "    </tr>\n",
       "    <tr>\n",
       "      <th>01/10/13 10:00 AM</th>\n",
       "      <td>0.0</td>\n",
       "      <td>0.014595</td>\n",
       "      <td>-0.014595</td>\n",
       "      <td>36.065657</td>\n",
       "    </tr>\n",
       "    <tr>\n",
       "      <th>01/10/13 11:00 AM</th>\n",
       "      <td>0.0</td>\n",
       "      <td>0.014595</td>\n",
       "      <td>-0.014595</td>\n",
       "      <td>36.051062</td>\n",
       "    </tr>\n",
       "    <tr>\n",
       "      <th>01/10/13 12:00 PM</th>\n",
       "      <td>0.0</td>\n",
       "      <td>0.013011</td>\n",
       "      <td>-0.013011</td>\n",
       "      <td>36.038052</td>\n",
       "    </tr>\n",
       "  </tbody>\n",
       "</table>\n",
       "</div>"
      ],
      "text/plain": [
       "                     P         Q         S        S_A\n",
       "01/08/13 10:00 PM  0.3  0.005431  0.294569   0.294569\n",
       "01/08/13 11:00 PM  0.0  0.010748 -0.010748   0.283821\n",
       "01/09/13 12:00 AM  1.8  0.012332  1.787668   2.071490\n",
       "01/09/13 01:00 AM  7.9  0.069692  7.830308   9.901798\n",
       "01/09/13 02:00 AM  8.1  0.079195  8.020805  17.922602\n",
       "01/09/13 03:00 AM  7.1  1.390673  5.709327  23.631930\n",
       "01/09/13 04:00 AM  5.6  1.191100  4.408900  28.040830\n",
       "01/09/13 05:00 AM  2.8  1.013702  1.786298  29.827128\n",
       "01/09/13 06:00 AM  1.8  0.665242  1.134758  30.961886\n",
       "01/09/13 07:00 AM  4.1  0.573375  3.526625  34.488510\n",
       "01/09/13 08:00 AM  2.5  0.497348  2.002652  36.491163\n",
       "01/09/13 09:00 AM  0.8  0.630396  0.169604  36.660767\n",
       "01/09/13 10:00 AM  0.8  0.430823  0.369177  37.029943\n",
       "01/09/13 11:00 AM  0.3  0.332621 -0.032621  36.997322\n",
       "01/09/13 12:00 PM  0.5  0.313614  0.186386  37.183708\n",
       "01/09/13 01:00 PM  0.3  0.240754  0.059246  37.242954\n",
       "01/09/13 02:00 PM  0.0  0.164727 -0.164727  37.078228\n",
       "01/09/13 03:00 PM  0.0  0.142552 -0.142552  36.935676\n",
       "01/09/13 04:00 PM  0.0  0.114041 -0.114041  36.821634\n",
       "01/09/13 05:00 PM  0.0  0.098202 -0.098202  36.723432\n",
       "01/09/13 06:00 PM  0.0  0.085531 -0.085531  36.637901\n",
       "01/09/13 07:00 PM  0.0  0.072860 -0.072860  36.565041\n",
       "01/09/13 08:00 PM  0.0  0.063356 -0.063356  36.501684\n",
       "01/09/13 09:00 PM  0.0  0.057021 -0.057021  36.444664\n",
       "01/09/13 10:00 PM  0.0  0.050685 -0.050685  36.393979\n",
       "01/09/13 11:00 PM  0.0  0.044349 -0.044349  36.349629\n",
       "01/10/13 12:00 AM  0.0  0.038014 -0.038014  36.311615\n",
       "01/10/13 01:00 AM  0.0  0.038014 -0.038014  36.273602\n",
       "01/10/13 02:00 AM  0.0  0.034846 -0.034846  36.238755\n",
       "01/10/13 03:00 AM  0.0  0.030434 -0.030434  36.208322\n",
       "01/10/13 04:00 AM  0.0  0.027266 -0.027266  36.181056\n",
       "01/10/13 05:00 AM  0.0  0.024437 -0.024437  36.156618\n",
       "01/10/13 06:00 AM  0.0  0.021835 -0.021835  36.134783\n",
       "01/10/13 07:00 AM  0.0  0.019686 -0.019686  36.115097\n",
       "01/10/13 08:00 AM  0.0  0.018102 -0.018102  36.096996\n",
       "01/10/13 09:00 AM  0.0  0.016744 -0.016744  36.080251\n",
       "01/10/13 10:00 AM  0.0  0.014595 -0.014595  36.065657\n",
       "01/10/13 11:00 AM  0.0  0.014595 -0.014595  36.051062\n",
       "01/10/13 12:00 PM  0.0  0.013011 -0.013011  36.038052"
      ]
     },
     "execution_count": 42,
     "metadata": {},
     "output_type": "execute_result"
    }
   ],
   "source": [
    "dados.Q = (dados.Q/area)*3.6\n",
    "dados"
   ]
  },
  {
   "cell_type": "code",
   "execution_count": 43,
   "metadata": {},
   "outputs": [
    {
     "data": {
      "image/png": "[encoded data removed]",
      "text/plain": [
       "<Figure size 432x288 with 1 Axes>"
      ]
     },
     "metadata": {
      "needs_background": "light"
     },
     "output_type": "display_data"
    }
   ],
   "source": [
    "t = dados.index\n",
    "data_Q = dados.Q\n",
    "data_P = dados.P\n",
    "\n",
    "plt.plot(t, data_Q, data_P)\n",
    "plt.show()"
   ]
  },
  {
   "cell_type": "code",
   "execution_count": null,
   "metadata": {},
   "outputs": [],
   "source": []
  }
 ],
 "metadata": {
  "kernelspec": {
   "display_name": "Python 3",
   "language": "python",
   "name": "python3"
  },
  "language_info": {
   "codemirror_mode": {
    "name": "ipython",
    "version": 3
   },
   "file_extension": ".py",
   "mimetype": "text/x-python",
   "name": "python",
   "nbconvert_exporter": "python",
   "pygments_lexer": "ipython3",
   "version": "3.6.7"
  }
 },
 "nbformat": 4,
 "nbformat_minor": 2
}
