{
 "cells": [
  {
   "cell_type": "markdown",
   "metadata": {},
   "source": [
    "# Programa de Pós-graduação em Recursos Hídricos e Sanemento - PPGRHS\n",
    "## Hidrologia\n",
    "\n",
    "**Precipitação**\n",
    "\n",
    "Clebson Farias"
   ]
  },
  {
   "cell_type": "markdown",
   "metadata": {},
   "source": [
    "## **Questão 1.** Uma tormenta que ocorreu em Maceió entre 8 e 9 de janeiro está apresentada na tabela abaixo. Determine a chuva máxima de 1-, 2-, 3- e 6 horas deste evento."
   ]
  },
  {
   "cell_type": "code",
   "execution_count": 1,
   "metadata": {},
   "outputs": [],
   "source": [
    "time = ['1/8/2013 22:00', '1/8/2013 23:00', '1/9/2013 0:00', '1/9/2013 1:00',\n",
    "        '1/9/2013 2:00', '1/9/2013 3:00', '1/9/2013 4:00', '1/9/2013 5:00', \n",
    "        '1/9/2013 6:00', '1/9/2013 7:00', '1/9/2013 8:00', '1/9/2013 9:00',\n",
    "        '1/9/2013 10:00', '1/9/2013 11:00', '1/9/2013 12:00', '1/9/2013 13:00']"
   ]
  },
  {
   "cell_type": "code",
   "execution_count": 2,
   "metadata": {},
   "outputs": [],
   "source": [
    "P = [0.01, 0, 0.07, 0.31, 0.32, 0.28, 0.22, 0.11, 0.07, 0.16, 0.1, 0.03, 0.03, 0.01, 0.02, 0.01]"
   ]
  },
  {
   "cell_type": "code",
   "execution_count": 3,
   "metadata": {},
   "outputs": [
    {
     "data": {
      "text/html": [
       "<div>\n",
       "<style scoped>\n",
       "    .dataframe tbody tr th:only-of-type {\n",
       "        vertical-align: middle;\n",
       "    }\n",
       "\n",
       "    .dataframe tbody tr th {\n",
       "        vertical-align: top;\n",
       "    }\n",
       "\n",
       "    .dataframe thead th {\n",
       "        text-align: right;\n",
       "    }\n",
       "</style>\n",
       "<table border=\"1\" class=\"dataframe\">\n",
       "  <thead>\n",
       "    <tr style=\"text-align: right;\">\n",
       "      <th></th>\n",
       "      <th>P</th>\n",
       "    </tr>\n",
       "  </thead>\n",
       "  <tbody>\n",
       "    <tr>\n",
       "      <th>1/8/2013 22:00</th>\n",
       "      <td>0.01</td>\n",
       "    </tr>\n",
       "    <tr>\n",
       "      <th>1/8/2013 23:00</th>\n",
       "      <td>0.00</td>\n",
       "    </tr>\n",
       "    <tr>\n",
       "      <th>1/9/2013 0:00</th>\n",
       "      <td>0.07</td>\n",
       "    </tr>\n",
       "    <tr>\n",
       "      <th>1/9/2013 1:00</th>\n",
       "      <td>0.31</td>\n",
       "    </tr>\n",
       "    <tr>\n",
       "      <th>1/9/2013 2:00</th>\n",
       "      <td>0.32</td>\n",
       "    </tr>\n",
       "    <tr>\n",
       "      <th>1/9/2013 3:00</th>\n",
       "      <td>0.28</td>\n",
       "    </tr>\n",
       "    <tr>\n",
       "      <th>1/9/2013 4:00</th>\n",
       "      <td>0.22</td>\n",
       "    </tr>\n",
       "    <tr>\n",
       "      <th>1/9/2013 5:00</th>\n",
       "      <td>0.11</td>\n",
       "    </tr>\n",
       "    <tr>\n",
       "      <th>1/9/2013 6:00</th>\n",
       "      <td>0.07</td>\n",
       "    </tr>\n",
       "    <tr>\n",
       "      <th>1/9/2013 7:00</th>\n",
       "      <td>0.16</td>\n",
       "    </tr>\n",
       "    <tr>\n",
       "      <th>1/9/2013 8:00</th>\n",
       "      <td>0.10</td>\n",
       "    </tr>\n",
       "    <tr>\n",
       "      <th>1/9/2013 9:00</th>\n",
       "      <td>0.03</td>\n",
       "    </tr>\n",
       "    <tr>\n",
       "      <th>1/9/2013 10:00</th>\n",
       "      <td>0.03</td>\n",
       "    </tr>\n",
       "    <tr>\n",
       "      <th>1/9/2013 11:00</th>\n",
       "      <td>0.01</td>\n",
       "    </tr>\n",
       "    <tr>\n",
       "      <th>1/9/2013 12:00</th>\n",
       "      <td>0.02</td>\n",
       "    </tr>\n",
       "    <tr>\n",
       "      <th>1/9/2013 13:00</th>\n",
       "      <td>0.01</td>\n",
       "    </tr>\n",
       "  </tbody>\n",
       "</table>\n",
       "</div>"
      ],
      "text/plain": [
       "                   P\n",
       "1/8/2013 22:00  0.01\n",
       "1/8/2013 23:00  0.00\n",
       "1/9/2013 0:00   0.07\n",
       "1/9/2013 1:00   0.31\n",
       "1/9/2013 2:00   0.32\n",
       "1/9/2013 3:00   0.28\n",
       "1/9/2013 4:00   0.22\n",
       "1/9/2013 5:00   0.11\n",
       "1/9/2013 6:00   0.07\n",
       "1/9/2013 7:00   0.16\n",
       "1/9/2013 8:00   0.10\n",
       "1/9/2013 9:00   0.03\n",
       "1/9/2013 10:00  0.03\n",
       "1/9/2013 11:00  0.01\n",
       "1/9/2013 12:00  0.02\n",
       "1/9/2013 13:00  0.01"
      ]
     },
     "execution_count": 3,
     "metadata": {},
     "output_type": "execute_result"
    }
   ],
   "source": [
    "import pandas as pd\n",
    "dados = pd.DataFrame(P, index = time, columns = ['P'])\n",
    "dados"
   ]
  },
  {
   "cell_type": "markdown",
   "metadata": {},
   "source": [
    "#### Chuva máxima de 1h"
   ]
  },
  {
   "cell_type": "code",
   "execution_count": 13,
   "metadata": {},
   "outputs": [
    {
     "name": "stdout",
     "output_type": "stream",
     "text": [
      "Precipitação máxima 1h:  0.32\n"
     ]
    }
   ],
   "source": [
    "p1max = dados.rolling(1).sum().max().values[0]\n",
    "print('Precipitação máxima 1h: ', p1max)"
   ]
  },
  {
   "cell_type": "markdown",
   "metadata": {},
   "source": [
    "#### Chuva máxima de 2h"
   ]
  },
  {
   "cell_type": "code",
   "execution_count": 12,
   "metadata": {},
   "outputs": [
    {
     "name": "stdout",
     "output_type": "stream",
     "text": [
      "Precipitação máxima 2h:  0.63\n"
     ]
    }
   ],
   "source": [
    "p2max = dados.rolling(2).sum().max().values[0]\n",
    "print('Precipitação máxima 2h: ', round(p2max, 2))"
   ]
  },
  {
   "cell_type": "markdown",
   "metadata": {},
   "source": [
    "#### Chuva máxima de 3h"
   ]
  },
  {
   "cell_type": "code",
   "execution_count": 17,
   "metadata": {},
   "outputs": [
    {
     "name": "stdout",
     "output_type": "stream",
     "text": [
      "Precipitação máxima 3h:  0.91\n"
     ]
    }
   ],
   "source": [
    "p3max = dados.rolling(3).sum().max().values[0]\n",
    "print('Precipitação máxima 3h: ', round(p3max, 2))"
   ]
  },
  {
   "cell_type": "markdown",
   "metadata": {},
   "source": [
    "#### Chuva máxima de 6h"
   ]
  },
  {
   "cell_type": "code",
   "execution_count": 18,
   "metadata": {},
   "outputs": [
    {
     "name": "stdout",
     "output_type": "stream",
     "text": [
      "Precipitação máxima 6h:  1.31\n"
     ]
    }
   ],
   "source": [
    "p6max = dados.rolling(6).sum().max().values[0]\n",
    "print('Precipitação máxima 6h: ', round(p6max, 2))"
   ]
  },
  {
   "cell_type": "code",
   "execution_count": null,
   "metadata": {},
   "outputs": [],
   "source": []
  }
 ],
 "metadata": {
  "kernelspec": {
   "display_name": "Python 3",
   "language": "python",
   "name": "python3"
  },
  "language_info": {
   "codemirror_mode": {
    "name": "ipython",
    "version": 3
   },
   "file_extension": ".py",
   "mimetype": "text/x-python",
   "name": "python",
   "nbconvert_exporter": "python",
   "pygments_lexer": "ipython3",
   "version": "3.6.7"
  }
 },
 "nbformat": 4,
 "nbformat_minor": 2
}
