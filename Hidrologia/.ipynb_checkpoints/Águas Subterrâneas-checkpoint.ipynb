{
 "cells": [
  {
   "cell_type": "markdown",
   "metadata": {},
   "source": [
    "**Questão 11 (Tucci; Pag.: 330)**: Para os seguintes esquemas de bombeamento, determinar os rebaixamentos num piezômetro localizado a 200m de um poço de produção. Faça um gráfico dos rebaixamento em função do tempo (semanas)."
   ]
  },
  {
   "cell_type": "code",
   "execution_count": 10,
   "metadata": {},
   "outputs": [],
   "source": [
    "import pandas as pd\n",
    "import math"
   ]
  },
  {
   "cell_type": "code",
   "execution_count": 11,
   "metadata": {},
   "outputs": [
    {
     "data": {
      "text/plain": [
       "1    100000\n",
       "2     50000\n",
       "3    100000\n",
       "4     50000\n",
       "5    100000\n",
       "6     50000\n",
       "Name: Volume, dtype: int64"
      ]
     },
     "execution_count": 11,
     "metadata": {},
     "output_type": "execute_result"
    }
   ],
   "source": [
    "semana = [1, 2, 3, 4, 5, 6]\n",
    "volume = [100000, 50000, 100000, 50000, 100000, 50000]\n",
    "series = pd.Series(volume, index = semana, name = 'Volume')\n",
    "series"
   ]
  },
  {
   "cell_type": "code",
   "execution_count": 38,
   "metadata": {},
   "outputs": [],
   "source": [
    "def W(u):\n",
    "    return -0.5772 - math.log(u) + u - ((u**2)/4) + ((u**3)/18)"
   ]
  },
  {
   "cell_type": "code",
   "execution_count": 37,
   "metadata": {},
   "outputs": [],
   "source": [
    "def delta(n, T, r, alfa):\n",
    "    w1 = W((r**2)/(4*alfa*n))\n",
    "    try:\n",
    "        w2 = W((r**2)/(4*alfa*(n-1)))\n",
    "    except ZeroDivisionError:\n",
    "        w2 = 0\n",
    "    return (1/(4*math.pi*T))*(w1-w2)"
   ]
  },
  {
   "cell_type": "code",
   "execution_count": 49,
   "metadata": {},
   "outputs": [],
   "source": [
    "def s(df, T, r, alfa):\n",
    "    \n",
    "    n = len(df)\n",
    "    lista = pd.Series(name = 'rebaixa')\n",
    "    for i in range(1, n+1):\n",
    "        soma = 0\n",
    "        for j in range(1, i+1):\n",
    "            soma += (df[j] * delta((i-j+1), T, r, alfa))\n",
    "        \n",
    "        lista.at[i] = soma\n",
    "    return lista\n",
    "\n",
    "df = series\n",
    "T = 10000\n",
    "r = 200\n",
    "alfa = 50000\n",
    "\n",
    "reb = s(df, T, r, alfa)"
   ]
  },
  {
   "cell_type": "code",
   "execution_count": 52,
   "metadata": {},
   "outputs": [
    {
     "data": {
      "text/plain": [
       "<matplotlib.axes._subplots.AxesSubplot at 0x7f65f4372898>"
      ]
     },
     "execution_count": 52,
     "metadata": {},
     "output_type": "execute_result"
    },
    {
     "data": {
      "image/png": "[encoded data removed]",
      "text/plain": [
       "<Figure size 432x288 with 1 Axes>"
      ]
     },
     "metadata": {
      "needs_background": "light"
     },
     "output_type": "display_data"
    }
   ],
   "source": [
    "reb.plot()"
   ]
  },
  {
   "cell_type": "markdown",
   "metadata": {},
   "source": [
    "**Questão 10 (Tucci pg.: 330)**: Calcule os núcleos discretos de bombeamento para n = 1, 2, 3, ..., 6 semanas e r = 200m para aquíferos homogêneo com porosidade efetiva 0,2 e trasmissividade 10000 m²/semana. Faça um gráfico com os resultados obtidos."
   ]
  }
 ],
 "metadata": {
  "kernelspec": {
   "display_name": "Python 3",
   "language": "python",
   "name": "python3"
  },
  "language_info": {
   "codemirror_mode": {
    "name": "ipython",
    "version": 3
   },
   "file_extension": ".py",
   "mimetype": "text/x-python",
   "name": "python",
   "nbconvert_exporter": "python",
   "pygments_lexer": "ipython3",
   "version": "3.6.7"
  }
 },
 "nbformat": 4,
 "nbformat_minor": 2
}
