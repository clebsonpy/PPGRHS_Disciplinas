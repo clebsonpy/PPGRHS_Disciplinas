{
 "cells": [
  {
   "cell_type": "markdown",
   "metadata": {},
   "source": [
    "# Programa de Pós-graduação em Recursos Hídricos e Sanemento - PPGRHS\n",
    "## Hidrologia\n",
    "\n",
    "**Evaporação**\n",
    "\n",
    "Clebson Farias"
   ]
  },
  {
   "cell_type": "markdown",
   "metadata": {},
   "source": [
    "## **Questão 1.** Em 20 de maio de 2015, a estação meteorológica localizada no Aeroporto Zumbi dos Palmares em Rio Largo registrou as seguintes leituras: temperatura do ar de $17^{o}C$, umidade relativa de $83\\%$ e velocidade do vento de $0,9 m/s$. Sabendo disso, determine a taxa de evaporação potencial pelo Método Aerodinâmico naquele dia."
   ]
  },
  {
   "cell_type": "markdown",
   "metadata": {},
   "source": [
    "### Evaporação(Método Aerodinâmico)"
   ]
  },
  {
   "cell_type": "code",
   "execution_count": 1,
   "metadata": {},
   "outputs": [],
   "source": [
    "temp_ar = 17\n",
    "umidade_r = 0.83\n",
    "veloc_vento = 0.9"
   ]
  },
  {
   "cell_type": "markdown",
   "metadata": {},
   "source": [
    "#### Método Aerodinâmico\n",
    "\\begin{equation}\n",
    "    E = B ⋅ (e_{s} − e_{a})\n",
    "\\end{equation}\n",
    "\n",
    "Onde:\n",
    "\n",
    "- $E$ -> E = Evaporação (mm/dia);\n",
    "- $B$ -> Parâmetro em que é introduzido o efeito do vento por expressões empíricas;\n",
    "- $e_{s}$ -> Pressão de vapor saturado;\n",
    "- $e_{a}$ -> Pressão de vapor do ar.\n",
    "\n",
    "#### Parâmetro em que é introduzido o efeito do vento por expressões empíricas\n",
    "\\begin{equation}\n",
    "    B = \\frac{0.102 · u}{[\\ln(\\frac{z_{2}}{z_{1}})]^2}\n",
    "\\end{equation}\n",
    "\n",
    "Onde:\n",
    "\n",
    "- $B$ -> Parâmetro em que é introduzido o efeito do vento por expressões empíricas;\n",
    "- $u$ -> Velocidade do vento na altura z_{2} (m/s);\n",
    "- $z_{2}$ -> Altura da medição da velocidade do vento (geralmente é adotado 2 m a partir da superfície);\n",
    "- $z_{1}$ -> Altura de rugosidade da superfície natural."
   ]
  },
  {
   "cell_type": "code",
   "execution_count": 4,
   "metadata": {},
   "outputs": [
    {
     "name": "stdout",
     "output_type": "stream",
     "text": [
      "Pressão de vapor saturado 1937.6501 Pa\n"
     ]
    }
   ],
   "source": [
    "def tensao_vapor_saturado(temperatura, unidade_saida):\n",
    "    \"\"\"\n",
    "    temperatura: Temperatura em °C\n",
    "    unidade_saida: Unidade de Saída\n",
    "    \"\"\"\n",
    "    A = {'mmHg': 4.58, \n",
    "         'Pa': 610.8}\n",
    "    \n",
    "    return round(A[unidade_saida] * 10 ** (7.5 * temperatura/(237.3 + temperatura)), 4)\n",
    "\n",
    "pressao_sat = tensao_vapor_saturado(temp_ar, 'Pa')\n",
    "print('Pressão de vapor saturado', pressao_sat, 'Pa')"
   ]
  },
  {
   "cell_type": "code",
   "execution_count": 7,
   "metadata": {},
   "outputs": [
    {
     "name": "stdout",
     "output_type": "stream",
     "text": [
      "Pressão de vapor parcial:  1608.2496 Pa\n"
     ]
    }
   ],
   "source": [
    "def tensao_vapor_ar(umidade_relativa, tensao_vapor_sat):\n",
    "    return round(umidade_relativa * tensao_vapor_sat, 4)\n",
    "\n",
    "pressao_ar = tensao_vapor_ar(umidade_r, pressao_sat)\n",
    "print('Pressão de vapor parcial: ', tensao_vapor, 'Pa')"
   ]
  },
  {
   "cell_type": "code",
   "execution_count": 19,
   "metadata": {},
   "outputs": [
    {
     "name": "stdout",
     "output_type": "stream",
     "text": [
      "Evaporação:  7.5433 mm/dia\n"
     ]
    }
   ],
   "source": [
    "import math\n",
    "\n",
    "altura_medicao_vento = 2\n",
    "altura_rugo_superficie = 0.02\n",
    "\n",
    "def parametro_efeito(velocidade_vento, altura_medicao_vento, altura_rugo_superficie):\n",
    "    b = (0.102 * velocidade_vento)/((math.log10(altura_medicao_vento/altura_rugo_superficie)) ** 2)\n",
    "    return round(b, 4)\n",
    "    \n",
    "def evaporacao_aerod(pressao_sat, pressao_ar, velocidade_vento, altura_medicao_vento, altura_rugo_superficie):\n",
    "    e = parametro_efeito(velocidade_vento, altura_medicao_vento, altura_rugo_superficie) * (pressao_sat - pressao_ar)\n",
    "    return round(e, 4)\n",
    "\n",
    "evaporacao = evaporacao_aerod(pressao_sat, pressao_ar, veloc_vento, altura_medicao_vento, altura_rugo_superficie)\n",
    "print('Evaporação: ', evaporacao, 'mm/dia')"
   ]
  },
  {
   "cell_type": "markdown",
   "metadata": {},
   "source": [
    "## **Questão 2.** No exemplo resolvido em sala de aula, calculamos a evaporação potencial pelo Balanço de Energia a partir de um valor de radiação média diária de $52 W/m^{2}$ e temepratura do ar de $17^{o}C$. Use a Equação de Penman para determinar a evaporação potencial considerando que ambos os fatores aerodinâmico e energético foram importantes para definir o total evaporado naquele dia."
   ]
  },
  {
   "cell_type": "code",
   "execution_count": 20,
   "metadata": {},
   "outputs": [],
   "source": [
    "radiacao_m = 52\n",
    "temp_ar = 17"
   ]
  },
  {
   "cell_type": "markdown",
   "metadata": {},
   "source": [
    "### Evaporação (Equação de Penman)\n",
    "\n",
    "#### Equação de Penman\n",
    "\\begin{equation}\n",
    "    E = [(\\frac{\\Delta}{\\Delta + \\gamma}) · E_{r} + (\\frac{\\gamma}{\\Delta + \\gamma}) · E_{a}]\n",
    "\\end{equation}\n",
    "\n",
    "Onde:\n",
    "\n",
    "- $E$ -> Evaporação (mm/dia);\n",
    "- $E_{r}$ -> Evaporação calculada pelo método do balanço de energia (mm/dia);\n",
    "- $E_{a}$ -> Evaporação calculada pelo método aerodinâmico (mm/dia);\n",
    "- $\\Delta$ -> Gradiente da curva de pressão de saturação de vapor (Pa/°C);\n",
    "- $\\gamma$ -> Constante psicrométrica (66,8 Pa/°C);"
   ]
  },
  {
   "cell_type": "code",
   "execution_count": 22,
   "metadata": {},
   "outputs": [],
   "source": [
    "def evaporacao_pen(evap_energia, evap_aero, grad_pressao_sat, cons_psicrometrica):\n",
    "    e1 = (grad_pressao_sat/(grad_pressao + cons_psicrometrica)) * evap_energia\n",
    "    e2 = (cons_psicrometrica/(grad_pressao + cons_psicrometrica)) * evap_aero\n",
    "    return round(e1 + e2, 4)"
   ]
  },
  {
   "cell_type": "markdown",
   "metadata": {},
   "source": [
    "#### Gradiente da curva de pressão de saturação de vapor\n",
    "\\begin{equation}\n",
    "    \\Delta = \\frac{4098 · e_{s}}{(237,3 + T) · 2}\n",
    "\\end{equation}\n",
    "\n",
    "Onde:\n",
    "\n",
    "- $\\Delta$ -> Gradiente da curva de pressão de saturação de vapor (Pa/°C);\n",
    "- $T$ -> E = Temperatura (°C);\n",
    "- $e_{s}$ -> Pressao de vapor saturado (Pa);"
   ]
  },
  {
   "cell_type": "code",
   "execution_count": 23,
   "metadata": {},
   "outputs": [],
   "source": [
    "def grad_pressao_vapor(pressao_vapor_sat, temperatura):\n",
    "    delta = (4098 * pressao_vapor_sat)/((237.3 + temperatura) * 2)\n",
    "    return round(delta, 4)"
   ]
  },
  {
   "cell_type": "markdown",
   "metadata": {},
   "source": [
    "#### Evaporação calculada pelo método do balanço de energia (mm/dia)"
   ]
  },
  {
   "cell_type": "code",
   "execution_count": null,
   "metadata": {},
   "outputs": [],
   "source": []
  }
 ],
 "metadata": {
  "kernelspec": {
   "display_name": "Python 3",
   "language": "python",
   "name": "python3"
  },
  "language_info": {
   "codemirror_mode": {
    "name": "ipython",
    "version": 3
   },
   "file_extension": ".py",
   "mimetype": "text/x-python",
   "name": "python",
   "nbconvert_exporter": "python",
   "pygments_lexer": "ipython3",
   "version": "3.6.7"
  }
 },
 "nbformat": 4,
 "nbformat_minor": 2
}
