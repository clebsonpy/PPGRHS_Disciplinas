{
 "cells": [
  {
   "cell_type": "markdown",
   "metadata": {},
   "source": [
    "# Programa de Pós-graduação em Recursos Hídricos e Sanemento - PPGRHS\n",
    "## Hidrologia\n",
    "\n",
    "**Evaporação**\n",
    "\n",
    "Clebson Farias"
   ]
  },
  {
   "cell_type": "markdown",
   "metadata": {},
   "source": [
    "## **Questão 1.** Em 20 de maio de 2015, a estação meteorológica localizada no Aeroporto Zumbi dos Palmares em Rio Largo registrou as seguintes leituras: temperatura do ar de $17^{o}C$, umidade relativa de $83\\%$ e velocidade do vento de $0,9 m/s$. Sabendo disso, determine a taxa de evaporação potencial pelo Método Aerodinâmico naquele dia."
   ]
  },
  {
   "cell_type": "markdown",
   "metadata": {},
   "source": [
    "### Modelo Aerodinâmico"
   ]
  },
  {
   "cell_type": "markdown",
   "metadata": {},
   "source": [
    "## **Questão 2.** No exemplo resolvido em sala de aula, calculamos a evaporação potencial pelo Balanço de Energia a partir de um valor de radiação média diária de $52 W/m^{2}$ e temepratura do ar de $17^{o}C$. Use a Equação de Penman para determinar a evaporação potencial considerando que ambos os fatores aerodinâmico e energético foram importantes para definir o total evaporado naquele dia."
   ]
  },
  {
   "cell_type": "markdown",
   "metadata": {},
   "source": [
    "### Equação de Penman"
   ]
  },
  {
   "cell_type": "code",
   "execution_count": null,
   "metadata": {},
   "outputs": [],
   "source": []
  }
 ],
 "metadata": {
  "kernelspec": {
   "display_name": "Python 3",
   "language": "python",
   "name": "python3"
  },
  "language_info": {
   "codemirror_mode": {
    "name": "ipython",
    "version": 3
   },
   "file_extension": ".py",
   "mimetype": "text/x-python",
   "name": "python",
   "nbconvert_exporter": "python",
   "pygments_lexer": "ipython3",
   "version": "3.6.7"
  }
 },
 "nbformat": 4,
 "nbformat_minor": 2
}
