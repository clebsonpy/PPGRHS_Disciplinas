{
 "cells": [
  {
   "cell_type": "markdown",
   "metadata": {},
   "source": [
    "# Programa de Pós-graduação em Recursos Hídricos e Sanemento - PPGRHS\n",
    "## Hidrologia\n",
    "\n",
    "**Água no Solo**\n",
    "\n",
    "Clebson Farias"
   ]
  },
  {
   "cell_type": "markdown",
   "metadata": {},
   "source": [
    "## **Questão 1:** Em um ensaio granulométrico, uma amostra de solo apresentou as seguintes distribuições: 25% de areia, 65% de silte e 10% de argila. Qual a textura de solo que esta amostra representa?"
   ]
  },
  {
   "cell_type": "markdown",
   "metadata": {},
   "source": [
    "![](../textura_solo.png)"
   ]
  },
  {
   "cell_type": "code",
   "execution_count": 2,
   "metadata": {},
   "outputs": [
    {
     "name": "stdout",
     "output_type": "stream",
     "text": [
      "Textura do solo:  Média\n"
     ]
    }
   ],
   "source": [
    "def textura_solo(p_areia, p_argila, p_silte):\n",
    "    if 60 <= p_argila <= 100 and 0 <= p_silte <= 40:\n",
    "        if 0 <= p_areia <= 40:\n",
    "            return \"Muito Argilosa\"\n",
    "        \n",
    "    elif 35 <= p_argila <= 100 and 0 <= p_silte <= 65:\n",
    "        if 0 <= p_areia <= 65:\n",
    "            return \"Argilosa\"\n",
    "    \n",
    "    elif 0 <= p_argila <= 85 and 0 <= p_silte <= 100:\n",
    "        if 70 <= p_areia <= 100:\n",
    "            if 0 <= p_argila <= 20:\n",
    "                return \"Arenosa\"\n",
    "            elif p_argila > 20:\n",
    "                return \"Média\"\n",
    "        elif 0 <= p_areia <= 15:\n",
    "            return \"Siltosa\"\n",
    "        else:\n",
    "            return \"Média\"\n",
    "    \n",
    "    elif (0 <= p_argila <= 35 or 85 <= p_argila <= 100) and 50 <= p_silte <= 100:\n",
    "        if 0 <= p_areia <= 50:\n",
    "            return \"Siltosa\"\n",
    "            \n",
    "p_areia = 25\n",
    "p_argila = 10\n",
    "p_silte = 65\n",
    "print(\"Textura do solo: \", textura_solo(p_areia=p_areia, p_silte=p_silte, p_argila=p_argila))"
   ]
  },
  {
   "cell_type": "markdown",
   "metadata": {},
   "source": [
    "### **Questão 2**. Calcule a taxa de infiltração (cm/hr) e o total infiltrado (cm) em intervalos horários (para cada hora) por um período de 5 horas para as seguintes texturas de solo: \n",
    "\n",
    "#### (a) Areia;\n",
    "#### (b) Silte;\n",
    "#### (c) Argila. \n",
    "\n",
    "### Mostre um gráfico com três curvas de taxa de infiltração e infiltração acumulada. Em cada caso, assuma que a saturação efetiva do solo é de 20% e que o solo fica encharcado instantaneamente."
   ]
  },
  {
   "cell_type": "markdown",
   "metadata": {},
   "source": [
    "![](tabela_q2.png)"
   ]
  },
  {
   "cell_type": "code",
   "execution_count": 1,
   "metadata": {},
   "outputs": [
    {
     "data": {
      "text/html": [
       "<div>\n",
       "<style scoped>\n",
       "    .dataframe tbody tr th:only-of-type {\n",
       "        vertical-align: middle;\n",
       "    }\n",
       "\n",
       "    .dataframe tbody tr th {\n",
       "        vertical-align: top;\n",
       "    }\n",
       "\n",
       "    .dataframe thead th {\n",
       "        text-align: right;\n",
       "    }\n",
       "</style>\n",
       "<table border=\"1\" class=\"dataframe\">\n",
       "  <thead>\n",
       "    <tr style=\"text-align: right;\">\n",
       "      <th></th>\n",
       "      <th>Areia</th>\n",
       "      <th>Silte</th>\n",
       "      <th>Argila</th>\n",
       "    </tr>\n",
       "  </thead>\n",
       "  <tbody>\n",
       "    <tr>\n",
       "      <th>c_hidraulica</th>\n",
       "      <td>11.890</td>\n",
       "      <td>0.650</td>\n",
       "      <td>0.030</td>\n",
       "    </tr>\n",
       "    <tr>\n",
       "      <th>e_porosity</th>\n",
       "      <td>0.417</td>\n",
       "      <td>0.486</td>\n",
       "      <td>0.385</td>\n",
       "    </tr>\n",
       "    <tr>\n",
       "      <th>porosity</th>\n",
       "      <td>0.437</td>\n",
       "      <td>0.501</td>\n",
       "      <td>0.475</td>\n",
       "    </tr>\n",
       "    <tr>\n",
       "      <th>t_matricial</th>\n",
       "      <td>4.950</td>\n",
       "      <td>16.680</td>\n",
       "      <td>31.630</td>\n",
       "    </tr>\n",
       "  </tbody>\n",
       "</table>\n",
       "</div>"
      ],
      "text/plain": [
       "               Areia   Silte  Argila\n",
       "c_hidraulica  11.890   0.650   0.030\n",
       "e_porosity     0.417   0.486   0.385\n",
       "porosity       0.437   0.501   0.475\n",
       "t_matricial    4.950  16.680  31.630"
      ]
     },
     "execution_count": 1,
     "metadata": {},
     "output_type": "execute_result"
    }
   ],
   "source": [
    "import pandas as pd\n",
    "\n",
    "classe = {\"Areia\": {\"porosity\": 0.437, \n",
    "                    \"e_porosity\": 0.417,\n",
    "                    \"t_matricial\": 4.95,\n",
    "                    \"c_hidraulica\": 11.89\n",
    "                   },\n",
    "         \"Silte\": {\"porosity\": 0.501, \n",
    "                    \"e_porosity\": 0.486,\n",
    "                    \"t_matricial\": 16.68,\n",
    "                    \"c_hidraulica\": 0.65\n",
    "                  },\n",
    "          \"Argila\": {\"porosity\": 0.475, \n",
    "                    \"e_porosity\": 0.385,\n",
    "                    \"t_matricial\": 31.63,\n",
    "                    \"c_hidraulica\": 0.03\n",
    "                  }\n",
    "         }\n",
    "df = pd.DataFrame(classe)\n",
    "df"
   ]
  },
  {
   "cell_type": "markdown",
   "metadata": {},
   "source": [
    "- Saturação efetiva do solo: $s_e$ = 0.2\n",
    "- Taxa de infiltração (cm/h): $f$\n",
    "- Total infiltrado (cm): $F$\n",
    "- Tempo (h): 1:1:5"
   ]
  },
  {
   "cell_type": "markdown",
   "metadata": {},
   "source": [
    "\\begin{equation}\n",
    "    \\Delta \\theta = \\theta_{e} (1-s_{e})\n",
    "\\end{equation}"
   ]
  },
  {
   "cell_type": "code",
   "execution_count": 2,
   "metadata": {},
   "outputs": [
    {
     "data": {
      "text/html": [
       "<div>\n",
       "<style scoped>\n",
       "    .dataframe tbody tr th:only-of-type {\n",
       "        vertical-align: middle;\n",
       "    }\n",
       "\n",
       "    .dataframe tbody tr th {\n",
       "        vertical-align: top;\n",
       "    }\n",
       "\n",
       "    .dataframe thead th {\n",
       "        text-align: right;\n",
       "    }\n",
       "</style>\n",
       "<table border=\"1\" class=\"dataframe\">\n",
       "  <thead>\n",
       "    <tr style=\"text-align: right;\">\n",
       "      <th></th>\n",
       "      <th>Areia</th>\n",
       "      <th>Silte</th>\n",
       "      <th>Argila</th>\n",
       "    </tr>\n",
       "  </thead>\n",
       "  <tbody>\n",
       "    <tr>\n",
       "      <th>c_hidraulica</th>\n",
       "      <td>11.8900</td>\n",
       "      <td>0.6500</td>\n",
       "      <td>0.030</td>\n",
       "    </tr>\n",
       "    <tr>\n",
       "      <th>e_porosity</th>\n",
       "      <td>0.4170</td>\n",
       "      <td>0.4860</td>\n",
       "      <td>0.385</td>\n",
       "    </tr>\n",
       "    <tr>\n",
       "      <th>porosity</th>\n",
       "      <td>0.4370</td>\n",
       "      <td>0.5010</td>\n",
       "      <td>0.475</td>\n",
       "    </tr>\n",
       "    <tr>\n",
       "      <th>t_matricial</th>\n",
       "      <td>4.9500</td>\n",
       "      <td>16.6800</td>\n",
       "      <td>31.630</td>\n",
       "    </tr>\n",
       "    <tr>\n",
       "      <th>v_umidade</th>\n",
       "      <td>0.3336</td>\n",
       "      <td>0.3888</td>\n",
       "      <td>0.308</td>\n",
       "    </tr>\n",
       "  </tbody>\n",
       "</table>\n",
       "</div>"
      ],
      "text/plain": [
       "                Areia    Silte  Argila\n",
       "c_hidraulica  11.8900   0.6500   0.030\n",
       "e_porosity     0.4170   0.4860   0.385\n",
       "porosity       0.4370   0.5010   0.475\n",
       "t_matricial    4.9500  16.6800  31.630\n",
       "v_umidade      0.3336   0.3888   0.308"
      ]
     },
     "execution_count": 2,
     "metadata": {},
     "output_type": "execute_result"
    }
   ],
   "source": [
    "def v_umidade(e_porosity, e_saturation):\n",
    "    return round(e_porosity*(1-e_saturation), 4)\n",
    "\n",
    "for i in df:\n",
    "    e_saturation = 0.2\n",
    "    e_porosity = df.at['e_porosity', i]\n",
    "    df.at['v_umidade', i] = v_umidade(e_porosity, e_saturation)\n",
    "df"
   ]
  },
  {
   "cell_type": "markdown",
   "metadata": {},
   "source": [
    "Variação de Umidade no Solo: $\\Delta \\theta$"
   ]
  },
  {
   "cell_type": "code",
   "execution_count": 3,
   "metadata": {},
   "outputs": [],
   "source": [
    "import math\n",
    "\n",
    "#Cálculo da infiltração acumulada\n",
    "def infiltracao_acumulada(erro, c_hidraulica, t_matricial, v_umidade, tempo):\n",
    "    f = 1\n",
    "    e = 1\n",
    "    while e >= erro:\n",
    "        r = ((c_hidraulica * tempo) + t_matricial*v_umidade*math.log(1 + (f/(t_matricial*v_umidade))) - f)\n",
    "        e = abs(r)\n",
    "        f = f+r\n",
    "    return round(f,4)"
   ]
  },
  {
   "cell_type": "markdown",
   "metadata": {},
   "source": [
    "\\begin{equation}\n",
    "    F(t) = kt + \\psi \\Delta \\theta \\ln (1 + \\frac{F(t)}{\\psi \\Delta \\theta})\n",
    "\\end{equation}"
   ]
  },
  {
   "cell_type": "code",
   "execution_count": 8,
   "metadata": {},
   "outputs": [],
   "source": [
    "#Cálculo taxa de infiltraçao\n",
    "def taxa_infiltracao(c_hidraulica, t_matricial, v_umidade, inf_acum):\n",
    "    return round(c_hidraulica*(1+(t_matricial*v_umidade)/inf_acum), 4)"
   ]
  },
  {
   "cell_type": "markdown",
   "metadata": {},
   "source": [
    "\\begin{equation}\n",
    "    f = k (1 + \\frac{\\psi \\Delta \\theta}{F(t)})\n",
    "\\end{equation}"
   ]
  },
  {
   "cell_type": "code",
   "execution_count": 9,
   "metadata": {},
   "outputs": [
    {
     "data": {
      "text/html": [
       "<div>\n",
       "<style scoped>\n",
       "    .dataframe tbody tr th:only-of-type {\n",
       "        vertical-align: middle;\n",
       "    }\n",
       "\n",
       "    .dataframe tbody tr th {\n",
       "        vertical-align: top;\n",
       "    }\n",
       "\n",
       "    .dataframe thead th {\n",
       "        text-align: right;\n",
       "    }\n",
       "</style>\n",
       "<table border=\"1\" class=\"dataframe\">\n",
       "  <thead>\n",
       "    <tr style=\"text-align: right;\">\n",
       "      <th></th>\n",
       "      <th>Areia</th>\n",
       "      <th>Silte</th>\n",
       "      <th>Argila</th>\n",
       "    </tr>\n",
       "  </thead>\n",
       "  <tbody>\n",
       "    <tr>\n",
       "      <th>1</th>\n",
       "      <td>15.7818</td>\n",
       "      <td>3.3521</td>\n",
       "      <td>0.7847</td>\n",
       "    </tr>\n",
       "    <tr>\n",
       "      <th>2</th>\n",
       "      <td>28.5809</td>\n",
       "      <td>5.0150</td>\n",
       "      <td>1.1216</td>\n",
       "    </tr>\n",
       "    <tr>\n",
       "      <th>3</th>\n",
       "      <td>41.0408</td>\n",
       "      <td>6.4049</td>\n",
       "      <td>1.3849</td>\n",
       "    </tr>\n",
       "    <tr>\n",
       "      <th>4</th>\n",
       "      <td>53.3491</td>\n",
       "      <td>7.6554</td>\n",
       "      <td>1.6101</td>\n",
       "    </tr>\n",
       "    <tr>\n",
       "      <th>5</th>\n",
       "      <td>65.5705</td>\n",
       "      <td>8.8176</td>\n",
       "      <td>1.8110</td>\n",
       "    </tr>\n",
       "  </tbody>\n",
       "</table>\n",
       "</div>"
      ],
      "text/plain": [
       "     Areia   Silte  Argila\n",
       "1  15.7818  3.3521  0.7847\n",
       "2  28.5809  5.0150  1.1216\n",
       "3  41.0408  6.4049  1.3849\n",
       "4  53.3491  7.6554  1.6101\n",
       "5  65.5705  8.8176  1.8110"
      ]
     },
     "execution_count": 9,
     "metadata": {},
     "output_type": "execute_result"
    }
   ],
   "source": [
    "inf_acum_df = pd.DataFrame()\n",
    "\n",
    "for i in df:\n",
    "    c_hidraulica = df.at['c_hidraulica', i]\n",
    "    t_matricial = df.at['t_matricial', i]\n",
    "    v_umidade = df.at['v_umidade', i]\n",
    "    for time in range(1,6):\n",
    "        inf_acum_df.at[time, i] = infiltracao_acumulada(0.000001, c_hidraulica, t_matricial, v_umidade, time)\n",
    "\n",
    "inf_acum_df"
   ]
  },
  {
   "cell_type": "markdown",
   "metadata": {},
   "source": [
    "Infiltração acumulada $F$"
   ]
  },
  {
   "cell_type": "code",
   "execution_count": 10,
   "metadata": {},
   "outputs": [
    {
     "data": {
      "text/html": [
       "<div>\n",
       "<style scoped>\n",
       "    .dataframe tbody tr th:only-of-type {\n",
       "        vertical-align: middle;\n",
       "    }\n",
       "\n",
       "    .dataframe tbody tr th {\n",
       "        vertical-align: top;\n",
       "    }\n",
       "\n",
       "    .dataframe thead th {\n",
       "        text-align: right;\n",
       "    }\n",
       "</style>\n",
       "<table border=\"1\" class=\"dataframe\">\n",
       "  <thead>\n",
       "    <tr style=\"text-align: right;\">\n",
       "      <th></th>\n",
       "      <th>Areia</th>\n",
       "      <th>Silte</th>\n",
       "      <th>Argila</th>\n",
       "    </tr>\n",
       "  </thead>\n",
       "  <tbody>\n",
       "    <tr>\n",
       "      <th>1</th>\n",
       "      <td>13.1341</td>\n",
       "      <td>1.9075</td>\n",
       "      <td>0.4024</td>\n",
       "    </tr>\n",
       "    <tr>\n",
       "      <th>2</th>\n",
       "      <td>12.5770</td>\n",
       "      <td>1.4906</td>\n",
       "      <td>0.2906</td>\n",
       "    </tr>\n",
       "    <tr>\n",
       "      <th>3</th>\n",
       "      <td>12.3684</td>\n",
       "      <td>1.3081</td>\n",
       "      <td>0.2410</td>\n",
       "    </tr>\n",
       "    <tr>\n",
       "      <th>4</th>\n",
       "      <td>12.2580</td>\n",
       "      <td>1.2006</td>\n",
       "      <td>0.2115</td>\n",
       "    </tr>\n",
       "    <tr>\n",
       "      <th>5</th>\n",
       "      <td>12.1894</td>\n",
       "      <td>1.1281</td>\n",
       "      <td>0.1914</td>\n",
       "    </tr>\n",
       "  </tbody>\n",
       "</table>\n",
       "</div>"
      ],
      "text/plain": [
       "     Areia   Silte  Argila\n",
       "1  13.1341  1.9075  0.4024\n",
       "2  12.5770  1.4906  0.2906\n",
       "3  12.3684  1.3081  0.2410\n",
       "4  12.2580  1.2006  0.2115\n",
       "5  12.1894  1.1281  0.1914"
      ]
     },
     "execution_count": 10,
     "metadata": {},
     "output_type": "execute_result"
    }
   ],
   "source": [
    "inf_df = pd.DataFrame()\n",
    "\n",
    "for i in df:\n",
    "    c_hidraulica = df.at['c_hidraulica', i]\n",
    "    t_matricial = df.at['t_matricial', i]\n",
    "    v_umidade = df.at['v_umidade', i]\n",
    "    for inf_acum in inf_acum_df[i].index:\n",
    "        inf_df.at[inf_acum, i] = taxa_infiltracao(c_hidraulica, t_matricial, v_umidade, inf_acum_df.at[inf_acum, i])\n",
    "        \n",
    "inf_df"
   ]
  },
  {
   "cell_type": "markdown",
   "metadata": {},
   "source": [
    "Taxa de Infiltração $f$"
   ]
  },
  {
   "cell_type": "code",
   "execution_count": 15,
   "metadata": {},
   "outputs": [
    {
     "data": {
      "text/plain": [
       "<matplotlib.axes._subplots.AxesSubplot at 0x7f5c1e5056d8>"
      ]
     },
     "execution_count": 15,
     "metadata": {},
     "output_type": "execute_result"
    },
    {
     "data": {
      "image/png": "[encoded data removed]",
      "text/plain": [
       "<Figure size 432x288 with 1 Axes>"
      ]
     },
     "metadata": {
      "needs_background": "light"
     },
     "output_type": "display_data"
    }
   ],
   "source": [
    "inf_df['Areia'].plot()\n",
    "inf_acum_df['Areia'].plot()"
   ]
  },
  {
   "cell_type": "code",
   "execution_count": 12,
   "metadata": {},
   "outputs": [
    {
     "data": {
      "text/plain": [
       "<matplotlib.axes._subplots.AxesSubplot at 0x7f5c1e625e48>"
      ]
     },
     "execution_count": 12,
     "metadata": {},
     "output_type": "execute_result"
    },
    {
     "data": {
      "image/png": "[encoded data removed]",
      "text/plain": [
       "<Figure size 432x288 with 1 Axes>"
      ]
     },
     "metadata": {
      "needs_background": "light"
     },
     "output_type": "display_data"
    }
   ],
   "source": [
    "inf_df['Silte'].plot()\n",
    "inf_acum_df['Silte'].plot()"
   ]
  },
  {
   "cell_type": "code",
   "execution_count": 13,
   "metadata": {},
   "outputs": [
    {
     "data": {
      "text/plain": [
       "<matplotlib.axes._subplots.AxesSubplot at 0x7f5c1e5810f0>"
      ]
     },
     "execution_count": 13,
     "metadata": {},
     "output_type": "execute_result"
    },
    {
     "data": {
      "image/png": "[encoded data removed]",
      "text/plain": [
       "<Figure size 432x288 with 1 Axes>"
      ]
     },
     "metadata": {
      "needs_background": "light"
     },
     "output_type": "display_data"
    }
   ],
   "source": [
    "inf_df['Argila'].plot()\n",
    "inf_acum_df['Argila'].plot()"
   ]
  },
  {
   "cell_type": "markdown",
   "metadata": {},
   "source": [
    "### **Questão 3.** Determine quanto tempo leva até que os três tipos de solo fiquem encharcados quando submetidos a uma chuva de intensidade constante e igual a \n",
    "- (a) 1 cm/hr;\n",
    "- (b) 10 cm/hr.\n",
    "### Mostre estes resultados em uma tabela (includindo os que não encharcaram também, se houver)."
   ]
  },
  {
   "cell_type": "markdown",
   "metadata": {},
   "source": [
    "\\begin{equation}\n",
    "    t_{e} = \\frac{k \\psi \\Delta \\theta}{i(i-k)}\n",
    "\\end{equation}"
   ]
  },
  {
   "cell_type": "code",
   "execution_count": 16,
   "metadata": {},
   "outputs": [
    {
     "data": {
      "text/html": [
       "<div>\n",
       "<style scoped>\n",
       "    .dataframe tbody tr th:only-of-type {\n",
       "        vertical-align: middle;\n",
       "    }\n",
       "\n",
       "    .dataframe tbody tr th {\n",
       "        vertical-align: top;\n",
       "    }\n",
       "\n",
       "    .dataframe thead th {\n",
       "        text-align: right;\n",
       "    }\n",
       "</style>\n",
       "<table border=\"1\" class=\"dataframe\">\n",
       "  <thead>\n",
       "    <tr style=\"text-align: right;\">\n",
       "      <th></th>\n",
       "      <th>Areia</th>\n",
       "      <th>Silte</th>\n",
       "      <th>Argila</th>\n",
       "    </tr>\n",
       "  </thead>\n",
       "  <tbody>\n",
       "    <tr>\n",
       "      <th>1</th>\n",
       "      <td>-1.802956</td>\n",
       "      <td>12.043913</td>\n",
       "      <td>0.301300</td>\n",
       "    </tr>\n",
       "    <tr>\n",
       "      <th>10</th>\n",
       "      <td>-1.038846</td>\n",
       "      <td>0.045084</td>\n",
       "      <td>0.002931</td>\n",
       "    </tr>\n",
       "  </tbody>\n",
       "</table>\n",
       "</div>"
      ],
      "text/plain": [
       "       Areia      Silte    Argila\n",
       "1  -1.802956  12.043913  0.301300\n",
       "10 -1.038846   0.045084  0.002931"
      ]
     },
     "execution_count": 16,
     "metadata": {},
     "output_type": "execute_result"
    }
   ],
   "source": [
    "def tempo_encha(c_hidraulica, t_matricial, v_umidade, i):\n",
    "    return (c_hidraulica * t_matricial * v_umidade)/(i*(i-c_hidraulica))\n",
    "\n",
    "df_tempo = pd.DataFrame()\n",
    "for i in df:\n",
    "    c_hidraulica = df.at['c_hidraulica', i]\n",
    "    t_matricial = df.at['t_matricial', i]\n",
    "    v_umidade = df.at['v_umidade', i]\n",
    "    for j in [1, 10]:\n",
    "        df_tempo.at[j, i] = tempo_encha(c_hidraulica, t_matricial, v_umidade, j)\n",
    "\n",
    "df_tempo"
   ]
  },
  {
   "cell_type": "code",
   "execution_count": null,
   "metadata": {},
   "outputs": [],
   "source": []
  }
 ],
 "metadata": {
  "kernelspec": {
   "display_name": "Python 3",
   "language": "python",
   "name": "python3"
  },
  "language_info": {
   "codemirror_mode": {
    "name": "ipython",
    "version": 3
   },
   "file_extension": ".py",
   "mimetype": "text/x-python",
   "name": "python",
   "nbconvert_exporter": "python",
   "pygments_lexer": "ipython3",
   "version": "3.6.7"
  }
 },
 "nbformat": 4,
 "nbformat_minor": 2
}
